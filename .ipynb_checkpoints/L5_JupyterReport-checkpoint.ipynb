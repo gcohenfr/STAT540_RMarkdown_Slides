{
 "cells": [
  {
   "cell_type": "markdown",
   "metadata": {
    "slideshow": {
     "slide_type": "slide"
    }
   },
   "source": [
    "# Statistical Methods for High Dimensional Biology (STAT/BIOF/GSAT 540)\n",
    "\n",
    "\n",
    "# <font color=red> Lecture 5: Two-group Comparisons and Statistical Inference"
   ]
  },
  {
   "cell_type": "markdown",
   "metadata": {
    "slideshow": {
     "slide_type": "subslide"
    }
   },
   "source": [
    "# Overview\n",
    "Thoughtout the course we will work with a dataset obtained from GSE to understand the role of Nrl (neural retina leucine) gene in photoreceptor differntiation in mammals (see details [**Data description**](#Data-description)). In this lecture, we introduce classical statistical inference to compare gene expressions of wild-type *vs* Nrl-knockout models in mice.    \n",
    "\n",
    "### Table of Contents:\n",
    "\n",
    "1. [**Data description**](#Data-description)\n",
    "    1. [Loading the data](#Loading-the-data)\n",
    "    2. [Subsetting the data](#Subsetting-the-data)\n",
    "2. [**Data visualization for two group comparisons**](#Data-visualization-for-two-group-comparisons)\n",
    "    1. [Strip plots](#Strip-plots)\n",
    "    2. [Density plots](#Density-plots)\n",
    "    3. [Boxplots](#Boxplots)\n",
    "3. [**Statistical inference**](#Statistical-Inference)\n",
    "    1. [t-Test](#t-Test)\n",
    "    2. [Wilcoxon rank sum test](#Wilcoxon-Rank-Sum-Test)\n",
    "    3. [Kolmogorov-Smirnov test](#Kolmogorov-Smirnov-Test-(two-sample))\n",
    "\n",
    "### R Dependencies:\n",
    "\n",
    "- knitr\n",
    "- lattice\n",
    "- latticeExtra\n",
    "- RColorBrewer"
   ]
  },
  {
   "cell_type": "code",
   "execution_count": 30,
   "metadata": {
    "slideshow": {
     "slide_type": "skip"
    }
   },
   "outputs": [
    {
     "name": "stderr",
     "output_type": "stream",
     "text": [
      "\n",
      "Attaching package: ‘gridExtra’\n",
      "\n",
      "The following object is masked from ‘package:dplyr’:\n",
      "\n",
      "    combine\n",
      "\n"
     ]
    },
    {
     "ename": "ERROR",
     "evalue": "Error in library(latticeExtra): there is no package called ‘latticeExtra’\n",
     "output_type": "error",
     "traceback": [
      "Error in library(latticeExtra): there is no package called ‘latticeExtra’\nTraceback:\n",
      "1. library(latticeExtra)",
      "2. stop(txt, domain = NA)"
     ]
    }
   ],
   "source": [
    "library(knitr)\n",
    "knitr::opts_knit$set(root.dir=\".\")\n",
    "\n",
    "library(dplyr)\n",
    "\n",
    "library(ggplot2)\n",
    "library(ggthemes)\n",
    "\n",
    "library(grid)\n",
    "library(gridExtra)\n",
    "\n",
    "library(lattice)\n",
    "library(latticeExtra)"
   ]
  },
  {
   "cell_type": "markdown",
   "metadata": {
    "slideshow": {
     "slide_type": "slide"
    }
   },
   "source": [
    "# Data description\n",
    "\n",
    "Dataset was obtained from: [GSE4051](https://www.ncbi.nlm.nih.gov/geo/query/acc.cgi?acc=GSE4051)\n",
    "\n",
    "> ## Targeting of GFP to new-born rods by Nrl promoter and temporal expression profiling of flow-sorted photoreceptors\n",
    "Akimoto M, Cheng H, Zhu D, Brzezinski JA, Khanna R, Filippova E, Oh EC, Jing Y, Linares JL, Brooks M, Zareparsi S, Mears AJ, Hero A, Glaser T, Swaroop A.\n",
    "<br><br>\n",
    "The Maf-family transcription factor Nrl is a key regulator of photoreceptor differentiation in mammals. Ablation of the Nrl gene in mice leads to functional cones at the expense of rods. We show that a 2.5-kb Nrl promoter segment directs the expression of enhanced GFP specifically to rod photoreceptors and the pineal gland of transgenic mice. GFP is detected shortly after terminal cell division, corresponding to the timing of rod genesis revealed by birthdating studies. In Nrl-/- retinas, the GFP+ photoreceptors express S-opsin, consistent with the transformation of rod precursors into cones. We report the gene profiles of freshly isolated flow-sorted GFP+ photoreceptors from wild-type and Nrl-/- retinas at five distinct developmental stages. Our results provide a framework for establishing gene regulatory networks that lead to mature functional photoreceptors from postmitotic precursors. Differentially expressed rod and cone genes are excellent candidates for retinopathies.\n",
    "\n",
    "### Overall Design\n",
    "> Postmitotic rod precursors and mature rod photoreceptors are tagged by GFP under the control of an Nrl promoter in the wild type background (Wt-Gfp mice). When cross-bred into the Nrl-knockout background (Nrl-ko-Gfp mice), the transformed “S-cones” are tagged by GFP. GFP positive photoreceptors from the Wt-Gfp or Nrl-ko-Gfp retina were enriched (purified) by FACS at five distinct developmental stages (E16, P2, P6, P10, and 4 weeks). Total RNA was extracted by Trizol regent and around 50 ng of total RNA was used for linear amplification and biotin labeling following Nugene kit protocol. Fragmented cDNA was hybridized on Affymetrix mouse genomic expression array 430 2.0 and then scanned with the standard protocol. Four replicates were performed for each time point."
   ]
  },
  {
   "cell_type": "markdown",
   "metadata": {
    "slideshow": {
     "slide_type": "subslide"
    }
   },
   "source": [
    "# Loading the data"
   ]
  },
  {
   "cell_type": "code",
   "execution_count": 5,
   "metadata": {
    "slideshow": {
     "slide_type": "-"
    }
   },
   "outputs": [
    {
     "name": "stdout",
     "output_type": "stream",
     "text": [
      "'data.frame':\t39 obs. of  4 variables:\n",
      " $ sidChar : chr  \"Sample_20\" \"Sample_21\" \"Sample_22\" \"Sample_23\" ...\n",
      " $ sidNum  : num  20 21 22 23 16 17 6 24 25 26 ...\n",
      " $ devStage: Factor w/ 5 levels \"E16\",\"P2\",\"P6\",..: 1 1 1 1 1 1 1 2 2 2 ...\n",
      " $ gType   : Factor w/ 2 levels \"wt\",\"NrlKO\": 1 1 1 1 2 2 2 1 1 1 ...\n",
      "'data.frame':\t29949 obs. of  39 variables:\n",
      " $ Sample_20: num  7.24 9.48 10.01 8.36 8.59 ...\n",
      " $ Sample_21: num  7.41 10.02 10.04 8.37 8.62 ...\n",
      " $ Sample_22: num  7.17 9.85 9.91 8.4 8.52 ...\n",
      " $ Sample_23: num  7.07 10.13 9.91 8.49 8.64 ...\n",
      " $ Sample_16: num  7.38 7.64 8.42 8.36 8.51 ...\n",
      " $ Sample_17: num  7.34 10.03 10.24 8.37 8.89 ...\n",
      " $ Sample_6 : num  7.24 9.71 10.17 8.84 8.54 ...\n",
      " $ Sample_24: num  7.11 9.75 9.39 8.37 8.36 ...\n",
      " $ Sample_25: num  7.19 9.16 10.11 8.2 8.5 ...\n",
      " $ Sample_26: num  7.18 9.49 9.41 8.73 8.39 ...\n",
      "  [list output truncated]\n"
     ]
    }
   ],
   "source": [
    "#The design\n",
    "prDes <- readRDS(\"data/GSE4051_design.rds\")\n",
    "str(prDes)\n",
    "\n",
    "#The expression data\n",
    "prDat<-read.table(\"data/GSE4051_data.tsv\",\n",
    "                  sep = \"\\t\", header = T, row.names = 1)\n",
    "str(prDat, list.len = 10)"
   ]
  },
  {
   "cell_type": "markdown",
   "metadata": {
    "slideshow": {
     "slide_type": "subslide"
    }
   },
   "source": [
    "Here we examine the design of the study with a frequency table. We have four samples for each combination of development stage and genotype (except for \"E16 and NrlKO\", which has 3 samples)"
   ]
  },
  {
   "cell_type": "code",
   "execution_count": 4,
   "metadata": {
    "slideshow": {
     "slide_type": "-"
    }
   },
   "outputs": [
    {
     "data": {
      "text/plain": [
       "         gType\n",
       "devStage  wt NrlKO\n",
       "  E16      4     3\n",
       "  P2       4     4\n",
       "  P6       4     4\n",
       "  P10      4     4\n",
       "  4_weeks  4     4"
      ]
     },
     "metadata": {},
     "output_type": "display_data"
    }
   ],
   "source": [
    "with(prDes, table(devStage, gType))"
   ]
  },
  {
   "cell_type": "code",
   "execution_count": 6,
   "metadata": {},
   "outputs": [
    {
     "data": {
      "text/html": [
       "'WT samples = 20'"
      ],
      "text/latex": [
       "'WT samples = 20'"
      ],
      "text/markdown": [
       "'WT samples = 20'"
      ],
      "text/plain": [
       "[1] \"WT samples = 20\""
      ]
     },
     "metadata": {},
     "output_type": "display_data"
    },
    {
     "data": {
      "text/html": [
       "'NrlKO samples = 19'"
      ],
      "text/latex": [
       "'NrlKO samples = 19'"
      ],
      "text/markdown": [
       "'NrlKO samples = 19'"
      ],
      "text/plain": [
       "[1] \"NrlKO samples = 19\""
      ]
     },
     "metadata": {},
     "output_type": "display_data"
    }
   ],
   "source": [
    "# Caculate total sample size of WT\n",
    "wtSample <- with(prDes, sum(gType == \"wt\"))\n",
    "paste(\"WT samples =\", wtSample)\n",
    "\n",
    "# Caculate total sample size of NrlKO\n",
    "nrlkoSample <- with(prDes, sum(gType == \"NrlKO\"))\n",
    "paste(\"NrlKO samples =\", nrlkoSample)"
   ]
  },
  {
   "cell_type": "markdown",
   "metadata": {
    "slideshow": {
     "slide_type": "subslide"
    }
   },
   "source": [
    "In the prDat dataframe, each row contains the expression data for each probeset and each column has all probesets expression data for each sample: a 29949 $\\times$ 39 dataframe. "
   ]
  },
  {
   "cell_type": "code",
   "execution_count": 7,
   "metadata": {
    "scrolled": true,
    "slideshow": {
     "slide_type": "-"
    }
   },
   "outputs": [
    {
     "data": {
      "text/html": [
       "<ol class=list-inline>\n",
       "\t<li>29949</li>\n",
       "\t<li>39</li>\n",
       "</ol>\n"
      ],
      "text/latex": [
       "\\begin{enumerate*}\n",
       "\\item 29949\n",
       "\\item 39\n",
       "\\end{enumerate*}\n"
      ],
      "text/markdown": [
       "1. 29949\n",
       "2. 39\n",
       "\n",
       "\n"
      ],
      "text/plain": [
       "[1] 29949    39"
      ]
     },
     "metadata": {},
     "output_type": "display_data"
    }
   ],
   "source": [
    "dim(prDat)"
   ]
  },
  {
   "cell_type": "markdown",
   "metadata": {},
   "source": [
    "Let's take a peek at the expression data of the first 3 probesets and 5 samples in the dataframe."
   ]
  },
  {
   "cell_type": "code",
   "execution_count": 8,
   "metadata": {},
   "outputs": [
    {
     "data": {
      "text/html": [
       "<table>\n",
       "<caption>A data.frame: 3 × 5</caption>\n",
       "<thead>\n",
       "\t<tr><th></th><th scope=col>Sample_20</th><th scope=col>Sample_21</th><th scope=col>Sample_22</th><th scope=col>Sample_23</th><th scope=col>Sample_16</th></tr>\n",
       "\t<tr><th></th><th scope=col>&lt;dbl&gt;</th><th scope=col>&lt;dbl&gt;</th><th scope=col>&lt;dbl&gt;</th><th scope=col>&lt;dbl&gt;</th><th scope=col>&lt;dbl&gt;</th></tr>\n",
       "</thead>\n",
       "<tbody>\n",
       "\t<tr><th scope=row>1415670_at</th><td> 7.236</td><td> 7.414</td><td>7.169</td><td> 7.070</td><td>7.383</td></tr>\n",
       "\t<tr><th scope=row>1415671_at</th><td> 9.478</td><td>10.020</td><td>9.854</td><td>10.130</td><td>7.637</td></tr>\n",
       "\t<tr><th scope=row>1415672_at</th><td>10.010</td><td>10.040</td><td>9.913</td><td> 9.907</td><td>8.423</td></tr>\n",
       "</tbody>\n",
       "</table>\n"
      ],
      "text/latex": [
       "A data.frame: 3 × 5\n",
       "\\begin{tabular}{r|lllll}\n",
       "  & Sample\\_20 & Sample\\_21 & Sample\\_22 & Sample\\_23 & Sample\\_16\\\\\n",
       "  & <dbl> & <dbl> & <dbl> & <dbl> & <dbl>\\\\\n",
       "\\hline\n",
       "\t1415670\\_at &  7.236 &  7.414 & 7.169 &  7.070 & 7.383\\\\\n",
       "\t1415671\\_at &  9.478 & 10.020 & 9.854 & 10.130 & 7.637\\\\\n",
       "\t1415672\\_at & 10.010 & 10.040 & 9.913 &  9.907 & 8.423\\\\\n",
       "\\end{tabular}\n"
      ],
      "text/markdown": [
       "\n",
       "A data.frame: 3 × 5\n",
       "\n",
       "| <!--/--> | Sample_20 &lt;dbl&gt; | Sample_21 &lt;dbl&gt; | Sample_22 &lt;dbl&gt; | Sample_23 &lt;dbl&gt; | Sample_16 &lt;dbl&gt; |\n",
       "|---|---|---|---|---|---|\n",
       "| 1415670_at |  7.236 |  7.414 | 7.169 |  7.070 | 7.383 |\n",
       "| 1415671_at |  9.478 | 10.020 | 9.854 | 10.130 | 7.637 |\n",
       "| 1415672_at | 10.010 | 10.040 | 9.913 |  9.907 | 8.423 |\n",
       "\n"
      ],
      "text/plain": [
       "           Sample_20 Sample_21 Sample_22 Sample_23 Sample_16\n",
       "1415670_at  7.236     7.414    7.169      7.070    7.383    \n",
       "1415671_at  9.478    10.020    9.854     10.130    7.637    \n",
       "1415672_at 10.010    10.040    9.913      9.907    8.423    "
      ]
     },
     "metadata": {},
     "output_type": "display_data"
    }
   ],
   "source": [
    "head(subset(prDat, select = 1:5),3)"
   ]
  },
  {
   "cell_type": "markdown",
   "metadata": {
    "slideshow": {
     "slide_type": "subslide"
    }
   },
   "source": [
    "# Subsetting the data\n",
    "\n",
    "Nrl is the gene that was knocked out in half the mice so we expect it to be differentially expressed. We will examine this hypothesis using statistical inference. For comparison, Nrl’s probeset ID is “1450946_at”. Irs4 (insulin receptor substrate 4) is selected as a \"boring\" non-differentially expressed gene. Irs4’s probeset ID is “1422248_at”."
   ]
  },
  {
   "cell_type": "markdown",
   "metadata": {
    "slideshow": {
     "slide_type": "subslide"
    }
   },
   "source": [
    "We extract the rows for each of these genes, transpose and then vectorize the data. We then merge this data together with the design metadata. Ensure that the samples match between the data and design before merging."
   ]
  },
  {
   "cell_type": "code",
   "execution_count": 17,
   "metadata": {
    "slideshow": {
     "slide_type": "-"
    }
   },
   "outputs": [
    {
     "name": "stderr",
     "output_type": "stream",
     "text": [
      "Warning message in data.frame(prDes, miniDat):\n",
      "“row names were found from a short variable and have been discarded”"
     ]
    },
    {
     "name": "stdout",
     "output_type": "stream",
     "text": [
      "'data.frame':\t78 obs. of  6 variables:\n",
      " $ sidChar : chr  \"Sample_20\" \"Sample_21\" \"Sample_22\" \"Sample_23\" ...\n",
      " $ sidNum  : num  20 21 22 23 16 17 6 24 25 26 ...\n",
      " $ devStage: Factor w/ 5 levels \"E16\",\"P2\",\"P6\",..: 1 1 1 1 1 1 1 2 2 2 ...\n",
      " $ gType   : Factor w/ 2 levels \"wt\",\"NrlKO\": 1 1 1 1 2 2 2 1 1 1 ...\n",
      " $ gene    : Factor w/ 2 levels \"Irs4\",\"Nrl\": 1 1 1 1 1 1 1 1 1 1 ...\n",
      " $ gExp    : num  7.87 7.78 7.58 7.4 8.08 ...\n"
     ]
    },
    {
     "data": {
      "text/html": [
       "<table>\n",
       "<caption>A data.frame: 6 × 6</caption>\n",
       "<thead>\n",
       "\t<tr><th scope=col>sidChar</th><th scope=col>sidNum</th><th scope=col>devStage</th><th scope=col>gType</th><th scope=col>gene</th><th scope=col>gExp</th></tr>\n",
       "\t<tr><th scope=col>&lt;chr&gt;</th><th scope=col>&lt;dbl&gt;</th><th scope=col>&lt;fct&gt;</th><th scope=col>&lt;fct&gt;</th><th scope=col>&lt;fct&gt;</th><th scope=col>&lt;dbl&gt;</th></tr>\n",
       "</thead>\n",
       "<tbody>\n",
       "\t<tr><td>Sample_20</td><td>20</td><td>E16</td><td>wt   </td><td>Irs4</td><td>7.867</td></tr>\n",
       "\t<tr><td>Sample_21</td><td>21</td><td>E16</td><td>wt   </td><td>Irs4</td><td>7.783</td></tr>\n",
       "\t<tr><td>Sample_22</td><td>22</td><td>E16</td><td>wt   </td><td>Irs4</td><td>7.585</td></tr>\n",
       "\t<tr><td>Sample_23</td><td>23</td><td>E16</td><td>wt   </td><td>Irs4</td><td>7.400</td></tr>\n",
       "\t<tr><td>Sample_16</td><td>16</td><td>E16</td><td>NrlKO</td><td>Irs4</td><td>8.076</td></tr>\n",
       "\t<tr><td>Sample_17</td><td>17</td><td>E16</td><td>NrlKO</td><td>Irs4</td><td>7.515</td></tr>\n",
       "</tbody>\n",
       "</table>\n"
      ],
      "text/latex": [
       "A data.frame: 6 × 6\n",
       "\\begin{tabular}{r|llllll}\n",
       " sidChar & sidNum & devStage & gType & gene & gExp\\\\\n",
       " <chr> & <dbl> & <fct> & <fct> & <fct> & <dbl>\\\\\n",
       "\\hline\n",
       "\t Sample\\_20 & 20 & E16 & wt    & Irs4 & 7.867\\\\\n",
       "\t Sample\\_21 & 21 & E16 & wt    & Irs4 & 7.783\\\\\n",
       "\t Sample\\_22 & 22 & E16 & wt    & Irs4 & 7.585\\\\\n",
       "\t Sample\\_23 & 23 & E16 & wt    & Irs4 & 7.400\\\\\n",
       "\t Sample\\_16 & 16 & E16 & NrlKO & Irs4 & 8.076\\\\\n",
       "\t Sample\\_17 & 17 & E16 & NrlKO & Irs4 & 7.515\\\\\n",
       "\\end{tabular}\n"
      ],
      "text/markdown": [
       "\n",
       "A data.frame: 6 × 6\n",
       "\n",
       "| sidChar &lt;chr&gt; | sidNum &lt;dbl&gt; | devStage &lt;fct&gt; | gType &lt;fct&gt; | gene &lt;fct&gt; | gExp &lt;dbl&gt; |\n",
       "|---|---|---|---|---|---|\n",
       "| Sample_20 | 20 | E16 | wt    | Irs4 | 7.867 |\n",
       "| Sample_21 | 21 | E16 | wt    | Irs4 | 7.783 |\n",
       "| Sample_22 | 22 | E16 | wt    | Irs4 | 7.585 |\n",
       "| Sample_23 | 23 | E16 | wt    | Irs4 | 7.400 |\n",
       "| Sample_16 | 16 | E16 | NrlKO | Irs4 | 8.076 |\n",
       "| Sample_17 | 17 | E16 | NrlKO | Irs4 | 7.515 |\n",
       "\n"
      ],
      "text/plain": [
       "  sidChar   sidNum devStage gType gene gExp \n",
       "1 Sample_20 20     E16      wt    Irs4 7.867\n",
       "2 Sample_21 21     E16      wt    Irs4 7.783\n",
       "3 Sample_22 22     E16      wt    Irs4 7.585\n",
       "4 Sample_23 23     E16      wt    Irs4 7.400\n",
       "5 Sample_16 16     E16      NrlKO Irs4 8.076\n",
       "6 Sample_17 17     E16      NrlKO Irs4 7.515"
      ]
     },
     "metadata": {},
     "output_type": "display_data"
    },
    {
     "ename": "ERROR",
     "evalue": "Error in miniDat %>% filter(gene == \"IRs4\"): could not find function \"%>%\"\n",
     "output_type": "error",
     "traceback": [
      "Error in miniDat %>% filter(gene == \"IRs4\"): could not find function \"%>%\"\nTraceback:\n"
     ]
    }
   ],
   "source": [
    "miniDat <- as.vector(t(prDat[c(\"1422248_at\", \"1450946_at\"), ]))\n",
    "miniDat <- data.frame(gene = rep(c(\"Irs4\", \"Nrl\"), each = nrow(prDes)),\n",
    "                      gExp = miniDat)\n",
    "miniDat <- data.frame(prDes, miniDat) # ignore the warning about row names\n",
    "str(miniDat)\n",
    "head(miniDat)\n",
    "irsDat <- miniDat  %>% filter(gene == \"IRs4\") #DAVID: this doesn't work"
   ]
  },
  {
   "cell_type": "markdown",
   "metadata": {
    "slideshow": {
     "slide_type": "slide"
    }
   },
   "source": [
    "# Data visualization for two-group comparisons \n",
    "\n",
    "We have a few options to visualize the differences in gene expression between genotypes in our dataset. In each plot, we generate a panel for each gene."
   ]
  },
  {
   "cell_type": "markdown",
   "metadata": {
    "slideshow": {
     "slide_type": "subslide"
    }
   },
   "source": [
    "# Strip plots\n",
    "We first examine the data using strip plots. Using `ggplot` we can plot both genes in 2 panels with matching x-axis scales to ease the comparison of their gene expression values. It is also possible to plot the average gene expression for each gene and genotype."
   ]
  },
  {
   "cell_type": "code",
   "execution_count": 34,
   "metadata": {
    "scrolled": false,
    "slideshow": {
     "slide_type": "fragment"
    }
   },
   "outputs": [
    {
     "data": {
      "image/png": "[encoded data removed]",
      "text/plain": [
       "plot without title"
      ]
     },
     "metadata": {},
     "output_type": "display_data"
    }
   ],
   "source": [
    "# Filter data for gene\n",
    "irsDat <- filter(miniDat, gene == \"Irs4\") #DAVID: I get an error here, not sure why...\n",
    "\n",
    "# Create and display plot of gene expression\n",
    "options(repr.plot.width=8, repr.plot.height=3)\n",
    "\n",
    "(irsLim <- ggplot(irsDat, aes(y = gExp, x = gType, colour = gType)) + \n",
    "             geom_point(alpha = 0.5) +\n",
    "             labs(title = \"Irs4 gene\") +\n",
    "             theme_bw() +\n",
    "             theme(legend.position = \"none\") +\n",
    "             coord_flip())"
   ]
  },
  {
   "cell_type": "code",
   "execution_count": 35,
   "metadata": {
    "scrolled": true
   },
   "outputs": [
    {
     "data": {
      "image/png": "[encoded data removed]",
      "text/plain": [
       "plot without title"
      ]
     },
     "metadata": {},
     "output_type": "display_data"
    }
   ],
   "source": [
    "# Filter data for gene\n",
    "nrlDat <- filter(miniDat, gene == \"Nrl\")\n",
    "\n",
    "# Create and display plot of gene expression\n",
    "\n",
    "(nrlLim <- ggplot(nrlDat, aes(y = gExp, x = gType, colour = gType)) + \n",
    "             geom_point(alpha = 0.5) +\n",
    "             labs(title = \"Nrl gene\") +\n",
    "             theme_bw() +\n",
    "             theme(legend.position = \"none\") +\n",
    "             coord_flip())"
   ]
  },
  {
   "cell_type": "markdown",
   "metadata": {},
   "source": [
    "Notice that the x-axis in both these plots differ quite significantly. If we wish to compare these plots, we should set the plots on a common x-axis."
   ]
  },
  {
   "cell_type": "code",
   "execution_count": 31,
   "metadata": {
    "scrolled": false,
    "slideshow": {
     "slide_type": "fragment"
    }
   },
   "outputs": [
    {
     "data": {
      "image/png": "[encoded data removed]",
      "text/plain": [
       "plot without title"
      ]
     },
     "metadata": {},
     "output_type": "display_data"
    }
   ],
   "source": [
    "options(repr.plot.width=8, repr.plot.height = 5)\n",
    "\n",
    "grid.arrange(irsLim + ylim(5, 13), nrlLim + ylim(5, 13), ncol = 1)"
   ]
  },
  {
   "cell_type": "markdown",
   "metadata": {},
   "source": [
    "What is the average gene expression for these genes within each genotype?"
   ]
  },
  {
   "cell_type": "code",
   "execution_count": 1,
   "metadata": {},
   "outputs": [
    {
     "ename": "ERROR",
     "evalue": "Error in eval(expr, envir, enclos): object 'irsLim' not found\n",
     "output_type": "error",
     "traceback": [
      "Error in eval(expr, envir, enclos): object 'irsLim' not found\nTraceback:\n"
     ]
    }
   ],
   "source": [
    "irsMean <- irsLim +\n",
    "             stat_summary(geom = 'point',\n",
    "                          fun.y = 'mean',\n",
    "                          color = 'purple',\n",
    "                          fill = 'purple',\n",
    "                          shape = 17,\n",
    "                          size = 2) +\n",
    "             stat_summary(aes(label=paste(\"mean = \",round(..y..,2))), \n",
    "                          fun.y = mean, \n",
    "                          geom=\"text\",\n",
    "                          color = 'purple',\n",
    "                          size=3, \n",
    "                          vjust = -1)\n",
    "\n",
    "nrlMean <- nrlLim +\n",
    "             stat_summary(geom = 'point',\n",
    "                          fun.y = 'mean',\n",
    "                          color = 'purple',\n",
    "                          fill = 'purple',\n",
    "                          shape = 17,\n",
    "                          size = 2) +\n",
    "             stat_summary(aes(label=paste(\"mean = \",round(..y..,2))),\n",
    "                          fun.y = mean, \n",
    "                          geom=\"text\",\n",
    "                          color = 'purple',\n",
    "                          size=3, \n",
    "                          vjust = -1)\n",
    "\n",
    "# Combine plots together\n",
    "grid.arrange(irsMean + ylim(5, 13), nrlMean + ylim(5, 13), ncol = 1)"
   ]
  },
  {
   "cell_type": "markdown",
   "metadata": {
    "slideshow": {
     "slide_type": "subslide"
    }
   },
   "source": [
    "# Density and violin plots\n",
    "We can also examine the empirical distributions of the gene expression within each genotypic group using density plots or violin plots."
   ]
  },
  {
   "cell_type": "code",
   "execution_count": 35,
   "metadata": {
    "slideshow": {
     "slide_type": "-"
    }
   },
   "outputs": [
    {
     "data": {
      "image/png": "[encoded data removed]",
      "text/plain": [
       "plot without title"
      ]
     },
     "metadata": {},
     "output_type": "display_data"
    }
   ],
   "source": [
    "irsDens <- ggplot(irsDat, aes(x = gExp)) + \n",
    "             geom_density(aes(fill = gType, alpha = I(0.5))) +\n",
    "             labs(title = \"Irs4 gene\") +\n",
    "             theme_bw() +\n",
    "             theme(legend.position = \"none\") + \n",
    "             ylim(0, 3)\n",
    "\n",
    "nrlDens <- ggplot(nrlDat, aes(x = gExp)) + \n",
    "             geom_density(aes(fill = gType, alpha = I(0.5))) +\n",
    "             labs(title = \"Nrl gene\") +\n",
    "             theme_bw() +\n",
    "             theme(legend.position = \"none\") + \n",
    "             ylim(0, 3)\n",
    "\n",
    "# Combine plots together\n",
    "options(repr.plot.width=8, repr.plot.height=5)\n",
    "\n",
    "grid.arrange(irsDens, nrlDens, nrow = 1)"
   ]
  },
  {
   "cell_type": "markdown",
   "metadata": {},
   "source": [
    "The blue density plot illustrate the empirical distribution of the NrlKO group, whereas the red density plot represents that of the WT group."
   ]
  },
  {
   "cell_type": "code",
   "execution_count": 38,
   "metadata": {},
   "outputs": [
    {
     "data": {
      "image/png": "[encoded data removed]",
      "text/plain": [
       "plot without title"
      ]
     },
     "metadata": {},
     "output_type": "display_data"
    }
   ],
   "source": [
    "irsViol <- ggplot(irsDat, aes(y = gExp, x = gType)) + \n",
    "             geom_violin(trim = FALSE, aes(fill = gType, alpha = 0.5)) +\n",
    "             geom_jitter(width = 0.02, alpha = 0.5) +\n",
    "             labs(title = \"Irs4 gene\") +\n",
    "             theme_bw() +\n",
    "             theme(legend.position = \"none\") +\n",
    "             coord_flip()\n",
    "\n",
    "nrlViol <- ggplot(nrlDat, aes(y = gExp, x = gType)) + \n",
    "             geom_violin(trim = FALSE, aes(fill = gType, alpha = 0.5)) +\n",
    "             geom_jitter(width = 0.02, alpha = 0.5) +\n",
    "             labs(title = \"Nrl gene\") +\n",
    "             theme_bw() +\n",
    "             theme(legend.position = \"none\") +\n",
    "             coord_flip()\n",
    "\n",
    "# Combine plots together\n",
    "options(repr.plot.width=8, repr.plot.height=4)\n",
    "\n",
    "grid.arrange(irsViol, nrlViol, nrow = 1)"
   ]
  },
  {
   "cell_type": "markdown",
   "metadata": {
    "slideshow": {
     "slide_type": "subslide"
    }
   },
   "source": [
    "# Boxplots\n",
    "Boxplots can be used to visualize the main summary statistics of the data. We can observe the median and IQR of the gene expression within each group, as well as identify any outliers. Note that boxplots can be combined with \"violin\" plots to have a more complete picture of the empirical distribution."
   ]
  },
  {
   "cell_type": "code",
   "execution_count": 39,
   "metadata": {
    "slideshow": {
     "slide_type": "-"
    }
   },
   "outputs": [
    {
     "data": {
      "image/png": "[encoded data removed]",
      "text/plain": [
       "plot without title"
      ]
     },
     "metadata": {},
     "output_type": "display_data"
    }
   ],
   "source": [
    "irsBox <- ggplot(irsDat, aes(y = gExp, x = gType)) + \n",
    "             geom_boxplot(aes(fill = gType, alpha = 0.5)) +\n",
    "             labs(title = \"Irs4 gene\") +\n",
    "             theme_bw() +\n",
    "             theme(legend.position = \"none\") +\n",
    "             coord_flip()\n",
    "\n",
    "nrlBox <- ggplot(nrlDat, aes(y = gExp, x = gType)) + \n",
    "             geom_boxplot(aes(fill = gType, alpha = 0.5)) +\n",
    "             labs(title = \"Nrl gene\") +\n",
    "             theme_bw() +\n",
    "             theme(legend.position = \"none\") +\n",
    "             coord_flip()\n",
    "\n",
    "# Combine plots together\n",
    "options(repr.plot.width=8, repr.plot.height = 3)\n",
    "\n",
    "grid.arrange(irsBox, nrlBox, nrow = 1)"
   ]
  },
  {
   "cell_type": "code",
   "execution_count": 41,
   "metadata": {},
   "outputs": [
    {
     "data": {
      "image/png": "[encoded data removed]",
      "text/plain": [
       "plot without title"
      ]
     },
     "metadata": {},
     "output_type": "display_data"
    }
   ],
   "source": [
    "irsViol <- ggplot(irsDat, aes(y = gExp, x = gType)) + \n",
    "             geom_violin(trim = FALSE, aes(fill = gType, alpha = 0.5)) +\n",
    "             geom_boxplot(width=0.1) +\n",
    "             labs(title = \"Irs4 gene\") +\n",
    "             theme_bw() +\n",
    "             theme(legend.position = \"none\") +\n",
    "             coord_flip()\n",
    "\n",
    "nrlViol <- ggplot(nrlDat, aes(y = gExp, x = gType)) + \n",
    "             geom_violin(trim = FALSE, aes(fill = gType, alpha = 0.5)) +\n",
    "             geom_boxplot(width=0.1) +\n",
    "             labs(title = \"Nrl gene\") +\n",
    "             theme_bw() +\n",
    "             theme(legend.position = \"none\") +\n",
    "             coord_flip()\n",
    "\n",
    "# Combine plots together\n",
    "options(repr.plot.width=8, repr.plot.height=4)\n",
    "\n",
    "grid.arrange(irsViol, nrlViol, nrow = 1)"
   ]
  },
  {
   "cell_type": "markdown",
   "metadata": {
    "slideshow": {
     "slide_type": "slide"
    }
   },
   "source": [
    "# <big>Statistical Inference"
   ]
  },
  {
   "cell_type": "markdown",
   "metadata": {
    "slideshow": {
     "slide_type": "subslide"
    }
   },
   "source": [
    "# t-test\n",
    "Now we're interested in testing whether we see a significant difference in mean gene expression between the wildtype and the NrlKO genotypes. One option is to use a \"two sample\" t-test (sample here refers to the groups, not the individual samples). Let's first examine the sample means for each genotype and their difference for the two genes of interest. "
   ]
  },
  {
   "cell_type": "code",
   "execution_count": 27,
   "metadata": {},
   "outputs": [
    {
     "data": {
      "text/html": [
       "<table>\n",
       "<caption>A grouped_df: 4 × 3</caption>\n",
       "<thead>\n",
       "\t<tr><th scope=col>gType</th><th scope=col>gene</th><th scope=col>mean(gExp)</th></tr>\n",
       "\t<tr><th scope=col>&lt;fct&gt;</th><th scope=col>&lt;fct&gt;</th><th scope=col>&lt;dbl&gt;</th></tr>\n",
       "</thead>\n",
       "<tbody>\n",
       "\t<tr><td>wt   </td><td>Irs4</td><td> 7.765750</td></tr>\n",
       "\t<tr><td>wt   </td><td>Nrl </td><td>11.244200</td></tr>\n",
       "\t<tr><td>NrlKO</td><td>Irs4</td><td> 7.739684</td></tr>\n",
       "\t<tr><td>NrlKO</td><td>Nrl </td><td> 6.089632</td></tr>\n",
       "</tbody>\n",
       "</table>\n"
      ],
      "text/latex": [
       "A grouped_df: 4 × 3\n",
       "\\begin{tabular}{r|lll}\n",
       " gType & gene & mean(gExp)\\\\\n",
       " <fct> & <fct> & <dbl>\\\\\n",
       "\\hline\n",
       "\t wt    & Irs4 &  7.765750\\\\\n",
       "\t wt    & Nrl  & 11.244200\\\\\n",
       "\t NrlKO & Irs4 &  7.739684\\\\\n",
       "\t NrlKO & Nrl  &  6.089632\\\\\n",
       "\\end{tabular}\n"
      ],
      "text/markdown": [
       "\n",
       "A grouped_df: 4 × 3\n",
       "\n",
       "| gType &lt;fct&gt; | gene &lt;fct&gt; | mean(gExp) &lt;dbl&gt; |\n",
       "|---|---|---|\n",
       "| wt    | Irs4 |  7.765750 |\n",
       "| wt    | Nrl  | 11.244200 |\n",
       "| NrlKO | Irs4 |  7.739684 |\n",
       "| NrlKO | Nrl  |  6.089632 |\n",
       "\n"
      ],
      "text/plain": [
       "  gType gene mean(gExp)\n",
       "1 wt    Irs4  7.765750 \n",
       "2 wt    Nrl  11.244200 \n",
       "3 NrlKO Irs4  7.739684 \n",
       "4 NrlKO Nrl   6.089632 "
      ]
     },
     "metadata": {},
     "output_type": "display_data"
    },
    {
     "data": {
      "text/html": [
       "<table>\n",
       "<caption>A matrix: 2 × 2 of type dbl</caption>\n",
       "<thead>\n",
       "\t<tr><th></th><th scope=col>Irs4</th><th scope=col>Nrl</th></tr>\n",
       "</thead>\n",
       "<tbody>\n",
       "\t<tr><th scope=row>wt</th><td>7.766</td><td>11.244</td></tr>\n",
       "\t<tr><th scope=row>NrlKO</th><td>7.740</td><td> 6.090</td></tr>\n",
       "</tbody>\n",
       "</table>\n"
      ],
      "text/latex": [
       "A matrix: 2 × 2 of type dbl\n",
       "\\begin{tabular}{r|ll}\n",
       "  & Irs4 & Nrl\\\\\n",
       "\\hline\n",
       "\twt & 7.766 & 11.244\\\\\n",
       "\tNrlKO & 7.740 &  6.090\\\\\n",
       "\\end{tabular}\n"
      ],
      "text/markdown": [
       "\n",
       "A matrix: 2 × 2 of type dbl\n",
       "\n",
       "| <!--/--> | Irs4 | Nrl |\n",
       "|---|---|---|\n",
       "| wt | 7.766 | 11.244 |\n",
       "| NrlKO | 7.740 |  6.090 |\n",
       "\n"
      ],
      "text/plain": [
       "      Irs4  Nrl   \n",
       "wt    7.766 11.244\n",
       "NrlKO 7.740  6.090"
      ]
     },
     "metadata": {},
     "output_type": "display_data"
    }
   ],
   "source": [
    "## take the averages of each group\n",
    "theAvgs <- with(miniDat,\n",
    "                 tapply(gExp, list(gType, gene), mean))\n",
    "\n",
    "##  DAVID: NOTE HOW WE CAN DO THIS USING dplyr, please update code, explore making it a table. \n",
    "## it will affect other code so we may want to leave it as a comment \n",
    "library(dplyr)\n",
    "miniDat %>% group_by(gType,gene) %>% summarize(mean(gExp))\n",
    "\n",
    "## round theAvgs to 3 decimal places\n",
    "round(theAvgs, 3)"
   ]
  },
  {
   "cell_type": "markdown",
   "metadata": {},
   "source": [
    "Now, we are interested in seeing the difference in means between WT and NrlKO samples for both Irs4 and Nrl genes."
   ]
  },
  {
   "cell_type": "code",
   "execution_count": 15,
   "metadata": {},
   "outputs": [
    {
     "data": {
      "text/html": [
       "<dl class=dl-horizontal>\n",
       "\t<dt>Irs4</dt>\n",
       "\t\t<dd>-0.026</dd>\n",
       "\t<dt>Nrl</dt>\n",
       "\t\t<dd>-5.155</dd>\n",
       "</dl>\n"
      ],
      "text/latex": [
       "\\begin{description*}\n",
       "\\item[Irs4] -0.026\n",
       "\\item[Nrl] -5.155\n",
       "\\end{description*}\n"
      ],
      "text/markdown": [
       "Irs4\n",
       ":   -0.026Nrl\n",
       ":   -5.155\n",
       "\n"
      ],
      "text/plain": [
       "  Irs4    Nrl \n",
       "-0.026 -5.155 "
      ]
     },
     "metadata": {},
     "output_type": "display_data"
    }
   ],
   "source": [
    "## take the difference of the averages of \"NrlKO\" and \"WT\"\n",
    "theDiff <- theAvgs[\"NrlKO\", ] - theAvgs[\"wt\", ]\n",
    "\n",
    "round(theDiff, 3)"
   ]
  },
  {
   "cell_type": "markdown",
   "metadata": {},
   "source": [
    "Next, we compute the estimated variance of the difference between group sample means. We have two options here. One is that we can assume that the population variances of the two groups (the populations here being the wildtype and the NrlKO populations) are either inequivalent or equivalent. The following code computes both. The unequal variances option corresponds to the \"Welch\" two sample t-test."
   ]
  },
  {
   "cell_type": "code",
   "execution_count": 16,
   "metadata": {},
   "outputs": [
    {
     "data": {
      "text/html": [
       "<table>\n",
       "<caption>A matrix: 2 × 2 of type dbl</caption>\n",
       "<thead>\n",
       "\t<tr><th></th><th scope=col>Irs4</th><th scope=col>Nrl</th></tr>\n",
       "</thead>\n",
       "<tbody>\n",
       "\t<tr><th scope=row>wt</th><td>0.024</td><td>1.224</td></tr>\n",
       "\t<tr><th scope=row>NrlKO</th><td>0.023</td><td>0.594</td></tr>\n",
       "</tbody>\n",
       "</table>\n"
      ],
      "text/latex": [
       "A matrix: 2 × 2 of type dbl\n",
       "\\begin{tabular}{r|ll}\n",
       "  & Irs4 & Nrl\\\\\n",
       "\\hline\n",
       "\twt & 0.024 & 1.224\\\\\n",
       "\tNrlKO & 0.023 & 0.594\\\\\n",
       "\\end{tabular}\n"
      ],
      "text/markdown": [
       "\n",
       "A matrix: 2 × 2 of type dbl\n",
       "\n",
       "| <!--/--> | Irs4 | Nrl |\n",
       "|---|---|---|\n",
       "| wt | 0.024 | 1.224 |\n",
       "| NrlKO | 0.023 | 0.594 |\n",
       "\n"
      ],
      "text/plain": [
       "      Irs4  Nrl  \n",
       "wt    0.024 1.224\n",
       "NrlKO 0.023 0.594"
      ]
     },
     "metadata": {},
     "output_type": "display_data"
    }
   ],
   "source": [
    "## take the variance of each group\n",
    "theVars <- with(miniDat,\n",
    "                 tapply(gExp, list(gType, gene), var))\n",
    "\n",
    "round(theVars, 3)\n",
    "\n",
    "nY <- with(miniDat, sum(gType == \"wt\" & gene == \"Nrl\"))\n",
    "nZ <- with(miniDat, sum(gType == \"NrlKO\" & gene == \"Nrl\"))"
   ]
  },
  {
   "cell_type": "markdown",
   "metadata": {},
   "source": [
    "With the variances calculated, we must now choose which assumptions we wish to make. Assuming unequal variance of Ys and Zs, the estimated variance of difference of sample means is:\n",
    "\n",
    "$$\\hat{V}(\\bar{Z_n}-\\bar{Y_n})=\\hat{\\sigma}_{\\bar{Z}_n-\\bar{Y}_n}^2=\\frac{S_Y^2}{n_Y}+\\frac{S_Z^2}{n_Z}$$"
   ]
  },
  {
   "cell_type": "code",
   "execution_count": 17,
   "metadata": {
    "scrolled": true
   },
   "outputs": [
    {
     "name": "stdout",
     "output_type": "stream",
     "text": [
      "[1] \"Estimated variance of difference of sample means, assuming unequal true variance:\"\n"
     ]
    },
    {
     "data": {
      "text/html": [
       "<dl class=dl-horizontal>\n",
       "\t<dt>Irs4</dt>\n",
       "\t\t<dd>0.002</dd>\n",
       "\t<dt>Nrl</dt>\n",
       "\t\t<dd>0.092</dd>\n",
       "</dl>\n"
      ],
      "text/latex": [
       "\\begin{description*}\n",
       "\\item[Irs4] 0.002\n",
       "\\item[Nrl] 0.092\n",
       "\\end{description*}\n"
      ],
      "text/markdown": [
       "Irs4\n",
       ":   0.002Nrl\n",
       ":   0.092\n",
       "\n"
      ],
      "text/plain": [
       " Irs4   Nrl \n",
       "0.002 0.092 "
      ]
     },
     "metadata": {},
     "output_type": "display_data"
    }
   ],
   "source": [
    "## assuming unequal true variance\n",
    "\n",
    "s2DiffWelch <- colSums(theVars / c(nY, nZ))\n",
    "\n",
    "print(\"Estimated variance of difference of sample means, assuming unequal true variance:\")\n",
    "round(s2DiffWelch, 3)"
   ]
  },
  {
   "cell_type": "markdown",
   "metadata": {},
   "source": [
    "Now if we assume equal variance of Ys and Zs,\n",
    "$$'pooled'\\;\\hat{\\sigma}^2=S_Y^2\\frac{n_Y-1}{n_Y+n_Z-2}+S_Z^2\\frac{n_z-1}{n_Y+n_Z-2}$$\n",
    "\n",
    "which will help us calculate the estimated variance of the difference of sample means\n",
    "\n",
    "$$\\hat{V}(\\bar{Z_n}-\\bar{Y_n})=\\;'pooled'\\;\\hat{\\sigma}^2\\left[\\frac{1}{n_Y}+\\frac{1}{n_Z}\\right]$$"
   ]
  },
  {
   "cell_type": "code",
   "execution_count": 18,
   "metadata": {},
   "outputs": [
    {
     "name": "stdout",
     "output_type": "stream",
     "text": [
      "[1] \"Calculating the estimated pooled sample variance\"\n"
     ]
    },
    {
     "data": {
      "text/html": [
       "<dl class=dl-horizontal>\n",
       "\t<dt>Irs4</dt>\n",
       "\t\t<dd>0.024</dd>\n",
       "\t<dt>Nrl</dt>\n",
       "\t\t<dd>0.918</dd>\n",
       "</dl>\n"
      ],
      "text/latex": [
       "\\begin{description*}\n",
       "\\item[Irs4] 0.024\n",
       "\\item[Nrl] 0.918\n",
       "\\end{description*}\n"
      ],
      "text/markdown": [
       "Irs4\n",
       ":   0.024Nrl\n",
       ":   0.918\n",
       "\n"
      ],
      "text/plain": [
       " Irs4   Nrl \n",
       "0.024 0.918 "
      ]
     },
     "metadata": {},
     "output_type": "display_data"
    },
    {
     "name": "stdout",
     "output_type": "stream",
     "text": [
      "[1] \"Estimated variance of difference of sample means, assuming equal true variance:\"\n"
     ]
    },
    {
     "data": {
      "text/html": [
       "<dl class=dl-horizontal>\n",
       "\t<dt>Irs4</dt>\n",
       "\t\t<dd>0.002</dd>\n",
       "\t<dt>Nrl</dt>\n",
       "\t\t<dd>0.094</dd>\n",
       "</dl>\n"
      ],
      "text/latex": [
       "\\begin{description*}\n",
       "\\item[Irs4] 0.002\n",
       "\\item[Nrl] 0.094\n",
       "\\end{description*}\n"
      ],
      "text/markdown": [
       "Irs4\n",
       ":   0.002Nrl\n",
       ":   0.094\n",
       "\n"
      ],
      "text/plain": [
       " Irs4   Nrl \n",
       "0.002 0.094 "
      ]
     },
     "metadata": {},
     "output_type": "display_data"
    }
   ],
   "source": [
    "## assuming equal true variance\n",
    "\n",
    "print(\"Calculating the estimated pooled sample variance\")\n",
    "s2Pooled <- colSums(theVars * c((nY - 1) / (nY + nZ - 2),\n",
    "                                 (nZ - 1) / (nY + nZ - 2)))\n",
    "round(s2Pooled, 3)\n",
    "\n",
    "print(\"Estimated variance of difference of sample means, assuming equal true variance:\")\n",
    "s2Diff <- s2Pooled * (1/nY + 1/nZ)\n",
    "round(s2Diff, 3)"
   ]
  },
  {
   "cell_type": "markdown",
   "metadata": {},
   "source": [
    "With the <b>difference in means</b> and our <b>estimate of the variance</b> of the difference between group sample means, we can compute the <b>test statistic</b>. \n",
    "\n",
    "In R, we can use the \"t.test\" function to compute the test statistic and perform the test for us. Our first tests are the <b>Welch two-sample t-tests (in which we assume unequal group variances)</b>, and their results for both Irs4 and Nrl are shown below. Recall that our null hypothesis is that there is no difference in the sample means between the two groups. \n",
    "\n",
    "For each given test, we get a p-value for the test statistic based on the null sampling distribution. Notably, the tests corresponding to the Irs4 gene and Nrl gene have p-values of 0.6001 and nearly 0, respectively. This suggests a statistically significant difference in mean gene expression for Nrl, but not for Irs4."
   ]
  },
  {
   "cell_type": "code",
   "execution_count": 19,
   "metadata": {},
   "outputs": [
    {
     "name": "stdout",
     "output_type": "stream",
     "text": [
      "[1] \"Calculating the Welch test-statistic for each gene\"\n"
     ]
    },
    {
     "data": {
      "text/html": [
       "<dl class=dl-horizontal>\n",
       "\t<dt>Irs4</dt>\n",
       "\t\t<dd>-0.529</dd>\n",
       "\t<dt>Nrl</dt>\n",
       "\t\t<dd>-16.949</dd>\n",
       "</dl>\n"
      ],
      "text/latex": [
       "\\begin{description*}\n",
       "\\item[Irs4] -0.529\n",
       "\\item[Nrl] -16.949\n",
       "\\end{description*}\n"
      ],
      "text/markdown": [
       "Irs4\n",
       ":   -0.529Nrl\n",
       ":   -16.949\n",
       "\n"
      ],
      "text/plain": [
       "   Irs4     Nrl \n",
       " -0.529 -16.949 "
      ]
     },
     "metadata": {},
     "output_type": "display_data"
    }
   ],
   "source": [
    "print(\"Calculating the Welch test-statistic for each gene\")\n",
    "welchStat <- theDiff / sqrt(s2DiffWelch)\n",
    "round(welchStat, 3)"
   ]
  },
  {
   "cell_type": "markdown",
   "metadata": {},
   "source": [
    "**What does this mean?** The difference is about half a standard deviation for Irs4 and ~16 standard deviations for Nrl. Now we perform the Welch two-sample t-test, in which we assume enequal group variances."
   ]
  },
  {
   "cell_type": "code",
   "execution_count": 20,
   "metadata": {},
   "outputs": [
    {
     "data": {
      "text/plain": [
       "miniDat$gene: Irs4\n",
       "\n",
       "\tWelch Two Sample t-test\n",
       "\n",
       "data:  gExp by gType\n",
       "t = -0.52886, df = 36.948, p-value = 0.6001\n",
       "alternative hypothesis: true difference in means is not equal to 0\n",
       "95 percent confidence interval:\n",
       " -0.1259351  0.0738035\n",
       "sample estimates:\n",
       "mean in group NrlKO    mean in group wt \n",
       "           7.739684            7.765750 \n",
       "\n",
       "------------------------------------------------------------ \n",
       "miniDat$gene: Nrl\n",
       "\n",
       "\tWelch Two Sample t-test\n",
       "\n",
       "data:  gExp by gType\n",
       "t = -16.949, df = 34.005, p-value < 2.2e-16\n",
       "alternative hypothesis: true difference in means is not equal to 0\n",
       "95 percent confidence interval:\n",
       " -5.772630 -4.536507\n",
       "sample estimates:\n",
       "mean in group NrlKO    mean in group wt \n",
       "           6.089632           11.244200 \n"
      ]
     },
     "metadata": {},
     "output_type": "display_data"
    }
   ],
   "source": [
    "by(miniDat, miniDat$gene, function(theDat) {\n",
    "  theDat$gType <- factor(theDat$gType, rev(levels(theDat$gType)))\n",
    "  t.test(gExp ~ gType, theDat)\n",
    "})"
   ]
  },
  {
   "cell_type": "markdown",
   "metadata": {},
   "source": [
    "Notice that the p-value is 0.6001 for Irs4 gene and 2.2e-16 for Nrl."
   ]
  },
  {
   "cell_type": "markdown",
   "metadata": {},
   "source": [
    "Let us perform the same tests, but this time assuming that the **group variances are equal**. The results are very similar. The test we choose to perform will depend on which assumption we want to make about the distributions of the group populations."
   ]
  },
  {
   "cell_type": "code",
   "execution_count": 21,
   "metadata": {},
   "outputs": [
    {
     "name": "stdout",
     "output_type": "stream",
     "text": [
      "[1] \"Calculating the test statistic for each gene\"\n"
     ]
    },
    {
     "data": {
      "text/html": [
       "<dl class=dl-horizontal>\n",
       "\t<dt>Irs4</dt>\n",
       "\t\t<dd>-0.529</dd>\n",
       "\t<dt>Nrl</dt>\n",
       "\t\t<dd>-16.795</dd>\n",
       "</dl>\n"
      ],
      "text/latex": [
       "\\begin{description*}\n",
       "\\item[Irs4] -0.529\n",
       "\\item[Nrl] -16.795\n",
       "\\end{description*}\n"
      ],
      "text/markdown": [
       "Irs4\n",
       ":   -0.529Nrl\n",
       ":   -16.795\n",
       "\n"
      ],
      "text/plain": [
       "   Irs4     Nrl \n",
       " -0.529 -16.795 "
      ]
     },
     "metadata": {},
     "output_type": "display_data"
    }
   ],
   "source": [
    "print(\"Calculating the test statistic for each gene\")\n",
    "tstStat <- theDiff / sqrt(s2Diff)\n",
    "\n",
    "round(tstStat, 3)"
   ]
  },
  {
   "cell_type": "code",
   "execution_count": 22,
   "metadata": {},
   "outputs": [
    {
     "data": {
      "text/plain": [
       "miniDat$gene: Irs4\n",
       "\n",
       "\tTwo Sample t-test\n",
       "\n",
       "data:  gExp by gType\n",
       "t = -0.52865, df = 37, p-value = 0.6002\n",
       "alternative hypothesis: true difference in means is not equal to 0\n",
       "95 percent confidence interval:\n",
       " -0.12597002  0.07383844\n",
       "sample estimates:\n",
       "mean in group NrlKO    mean in group wt \n",
       "           7.739684            7.765750 \n",
       "\n",
       "------------------------------------------------------------ \n",
       "miniDat$gene: Nrl\n",
       "\n",
       "\tTwo Sample t-test\n",
       "\n",
       "data:  gExp by gType\n",
       "t = -16.795, df = 37, p-value < 2.2e-16\n",
       "alternative hypothesis: true difference in means is not equal to 0\n",
       "95 percent confidence interval:\n",
       " -5.776439 -4.532698\n",
       "sample estimates:\n",
       "mean in group NrlKO    mean in group wt \n",
       "           6.089632           11.244200 \n"
      ]
     },
     "metadata": {},
     "output_type": "display_data"
    }
   ],
   "source": [
    "by(miniDat, miniDat$gene, function(theDat) {\n",
    "  theDat$gType <- factor(theDat$gType, rev(levels(theDat$gType)))\n",
    "  t.test(gExp ~ gType, theDat, var.equal = TRUE)\n",
    "})"
   ]
  },
  {
   "cell_type": "markdown",
   "metadata": {},
   "source": [
    "Notice that the p-value is 0.6002 for Irs4 gene and 2.2e-16 for Nrl."
   ]
  },
  {
   "cell_type": "markdown",
   "metadata": {},
   "source": [
    "Below we have the null distribution, where we overlay the t-distribution (red dotted line) with 37 degrees of freedom on top of the normal distribution (black line). \n",
    "\n",
    "In the subsequent plot, we examine the test statistic for Irs4 and where it lies on the distribution. The highlighted areas in blue is a visualization of our p-value, our measure of how likely we are to see a test statistic as or more extreme than what we observed."
   ]
  },
  {
   "cell_type": "code",
   "execution_count": 23,
   "metadata": {},
   "outputs": [
    {
     "data": {
      "image/png": "[encoded data removed]",
      "text/plain": [
       "plot without title"
      ]
     },
     "metadata": {},
     "output_type": "display_data"
    }
   ],
   "source": [
    "## draw the null dist'n\n",
    "\n",
    "nullDistn <- data.frame(tVals = seq(-3.5, 3.5, length = 300))\n",
    "nullDistn$densT <- dt(nullDistn$tVals, df = nY + nZ - 2)\n",
    "nullDistn$densNorm <- dnorm(nullDistn$tVals)\n",
    "\n",
    "with(nullDistn,\n",
    "     matplot(x = nullDistn$tVals,\n",
    "             y = nullDistn[c(\"densT\", \"densNorm\")],\n",
    "             type = \"l\"))"
   ]
  },
  {
   "cell_type": "code",
   "execution_count": 24,
   "metadata": {},
   "outputs": [
    {
     "data": {
      "text/html": [
       "<span style=white-space:pre-wrap>'Irs4 test statistic:  -0.528649350859384'</span>"
      ],
      "text/latex": [
       "'Irs4 test statistic:  -0.528649350859384'"
      ],
      "text/markdown": [
       "<span style=white-space:pre-wrap>'Irs4 test statistic:  -0.528649350859384'</span>"
      ],
      "text/plain": [
       "[1] \"Irs4 test statistic:  -0.528649350859384\""
      ]
     },
     "metadata": {},
     "output_type": "display_data"
    },
    {
     "name": "stdout",
     "output_type": "stream",
     "text": [
      "[1] \"Probability of observation assuming equal variance\"\n"
     ]
    },
    {
     "data": {
      "text/html": [
       "<dl class=dl-horizontal>\n",
       "\t<dt>Irs4</dt>\n",
       "\t\t<dd>0.6</dd>\n",
       "\t<dt>Nrl</dt>\n",
       "\t\t<dd>0</dd>\n",
       "</dl>\n"
      ],
      "text/latex": [
       "\\begin{description*}\n",
       "\\item[Irs4] 0.6\n",
       "\\item[Nrl] 0\n",
       "\\end{description*}\n"
      ],
      "text/markdown": [
       "Irs4\n",
       ":   0.6Nrl\n",
       ":   0\n",
       "\n"
      ],
      "text/plain": [
       "Irs4  Nrl \n",
       " 0.6  0.0 "
      ]
     },
     "metadata": {},
     "output_type": "display_data"
    },
    {
     "name": "stdout",
     "output_type": "stream",
     "text": [
      "[1] \"Probability of observation assuming unequal variance\"\n"
     ]
    },
    {
     "data": {
      "text/html": [
       "<dl class=dl-horizontal>\n",
       "\t<dt>Irs4</dt>\n",
       "\t\t<dd>0.597</dd>\n",
       "\t<dt>Nrl</dt>\n",
       "\t\t<dd>0</dd>\n",
       "</dl>\n"
      ],
      "text/latex": [
       "\\begin{description*}\n",
       "\\item[Irs4] 0.597\n",
       "\\item[Nrl] 0\n",
       "\\end{description*}\n"
      ],
      "text/markdown": [
       "Irs4\n",
       ":   0.597Nrl\n",
       ":   0\n",
       "\n"
      ],
      "text/plain": [
       " Irs4   Nrl \n",
       "0.597 0.000 "
      ]
     },
     "metadata": {},
     "output_type": "display_data"
    },
    {
     "data": {
      "image/png": "[encoded data removed]",
      "text/plain": [
       "plot without title"
      ]
     },
     "metadata": {},
     "output_type": "display_data"
    }
   ],
   "source": [
    "## depicting only for Irs4!\n",
    "\n",
    "with(nullDistn,\n",
    "     plot(densNorm ~ tVals, type = \"l\"))\n",
    "abline(v = tstStat[\"Irs4\"], lty = \"dashed\")\n",
    "\n",
    "foo <- subset(nullDistn, tVals < tstStat[\"Irs4\"])\n",
    "polygon(x = c(foo$tVals, rev(foo$tVals)),\n",
    "        y = c(rep(0, nrow(foo)), rev(foo$densNorm)),\n",
    "        col = \"blue\")\n",
    "\n",
    "polygon(x = -1 * c(foo$tVals, rev(foo$tVals)),\n",
    "        y = c(rep(0, nrow(foo)), rev(foo$densNorm)),\n",
    "        col = \"blue\")\n",
    "\n",
    "paste(\"Irs4 test statistic: \", tstStat[\"Irs4\"])\n",
    "\n",
    "print(\"Probability of observation assuming equal variance\")\n",
    "round(pt(-1 * abs(tstStat), df = nY + nZ - 2) * 2, 3)\n",
    "\n",
    "print(\"Probability of observation assuming unequal variance\")\n",
    "round(pnorm(-1 * abs(tstStat)) * 2, 3)"
   ]
  },
  {
   "cell_type": "markdown",
   "metadata": {},
   "source": [
    "We can see that the probability of seeing a test statistic as extreme as that observed (T = -0.53) is pretty high. And thus, for Irs4, we do not have enough evidence to reject the null hypothesis!"
   ]
  },
  {
   "cell_type": "markdown",
   "metadata": {
    "slideshow": {
     "slide_type": "subslide"
    }
   },
   "source": [
    "# Wilcoxon Rank Sum Test\n",
    "Another option to compare the distributions of gene expression between two groups is the Wilcoxon Rank Test. "
   ]
  },
  {
   "cell_type": "code",
   "execution_count": 25,
   "metadata": {},
   "outputs": [
    {
     "name": "stderr",
     "output_type": "stream",
     "text": [
      "Warning message in wilcox.test.default(x = c(7.867, 7.783, 7.585, 7.4, 7.667, 7.818, :\n",
      "\"cannot compute exact p-value with ties\"Warning message in wilcox.test.default(x = c(8.761, 9.079, 10.61, 9.796, 11.39, :\n",
      "\"cannot compute exact p-value with ties\""
     ]
    },
    {
     "data": {
      "text/plain": [
       "miniDat$gene: Irs4\n",
       "\n",
       "\tWilcoxon rank sum test with continuity correction\n",
       "\n",
       "data:  gExp by gType\n",
       "W = 220.5, p-value = 0.3992\n",
       "alternative hypothesis: true location shift is not equal to 0\n",
       "\n",
       "------------------------------------------------------------ \n",
       "miniDat$gene: Nrl\n",
       "\n",
       "\tWilcoxon rank sum test with continuity correction\n",
       "\n",
       "data:  gExp by gType\n",
       "W = 379, p-value = 1.178e-07\n",
       "alternative hypothesis: true location shift is not equal to 0\n"
      ]
     },
     "metadata": {},
     "output_type": "display_data"
    }
   ],
   "source": [
    "(wilcTest <- by(miniDat, miniDat$gene, function(theDat) {\n",
    "    wilcox.test(gExp ~ gType, theDat)\n",
    "}))"
   ]
  },
  {
   "cell_type": "markdown",
   "metadata": {},
   "source": [
    "The warning messages tell us that there is a tie within the gene expression values of the dataset. \n",
    "\n",
    "Notice that the test statistic is 220.5 for Irs4 and 379 for Nrl. Can we confirm these findings of the test by computing the rank sum test-statistic by hand?"
   ]
  },
  {
   "cell_type": "code",
   "execution_count": 26,
   "metadata": {},
   "outputs": [
    {
     "data": {
      "text/plain": [
       "miniDat$gene: Irs4\n",
       " [1] 31.5 22.0  7.0  1.0 38.0  2.0 37.0 11.0 27.0 35.0 13.0 28.0 36.0 16.0 24.0\n",
       "[16] 39.0 12.0 18.0 34.0 10.0  8.0  3.0  4.0 29.0  9.0 23.0 30.0 21.0 19.0 31.5\n",
       "[31] 14.5 33.0 25.0  5.0 26.0 17.0 14.5  6.0 20.0\n",
       "------------------------------------------------------------ \n",
       "miniDat$gene: Nrl\n",
       " [1] 19.0 21.0 24.5 23.0 15.0  9.0  1.0 27.0 24.5 28.0 22.0  8.0  5.0 14.0 17.0\n",
       "[16] 26.0 34.0 29.0 30.5 16.0 12.0 13.0 18.0 35.0 33.0 30.5 32.0 10.0  7.0  3.0\n",
       "[31] 11.0 37.0 38.0 39.0 36.0  2.0  4.0  6.0 20.0"
      ]
     },
     "metadata": {},
     "output_type": "display_data"
    }
   ],
   "source": [
    "# Calculate ranks of the gene expressions for Irs4 and Nrl\n",
    "by(miniDat, miniDat$gene, function(theDat) rank(theDat$gExp))"
   ]
  },
  {
   "cell_type": "markdown",
   "metadata": {},
   "source": [
    "As you can see, some of the ranks here are ending with .5, implying that there are ties in the dataset. "
   ]
  },
  {
   "cell_type": "code",
   "execution_count": 27,
   "metadata": {},
   "outputs": [
    {
     "data": {
      "text/plain": [
       "miniDat$gene: Irs4\n",
       "   wt NrlKO \n",
       "430.5 349.5 \n",
       "------------------------------------------------------------ \n",
       "miniDat$gene: Nrl\n",
       "   wt NrlKO \n",
       "  589   191 "
      ]
     },
     "metadata": {},
     "output_type": "display_data"
    }
   ],
   "source": [
    "## let's recreate the Wilcoxon test statistic\n",
    "(jRankSums <- by(miniDat, miniDat$gene, function(theDat) {\n",
    "    tapply(rank(theDat$gExp), theDat$gType, sum)\n",
    "}))"
   ]
  },
  {
   "cell_type": "code",
   "execution_count": 28,
   "metadata": {},
   "outputs": [
    {
     "data": {
      "text/html": [
       "<table>\n",
       "<caption>A matrix: 2 × 2 of type dbl</caption>\n",
       "<thead>\n",
       "\t<tr><th></th><th scope=col>Irs4</th><th scope=col>Nrl</th></tr>\n",
       "</thead>\n",
       "<tbody>\n",
       "\t<tr><th scope=row>wt</th><td>220.5</td><td>379</td></tr>\n",
       "\t<tr><th scope=row>NrlKO</th><td>159.5</td><td>  1</td></tr>\n",
       "</tbody>\n",
       "</table>\n"
      ],
      "text/latex": [
       "A matrix: 2 × 2 of type dbl\n",
       "\\begin{tabular}{r|ll}\n",
       "  & Irs4 & Nrl\\\\\n",
       "\\hline\n",
       "\twt & 220.5 & 379\\\\\n",
       "\tNrlKO & 159.5 &   1\\\\\n",
       "\\end{tabular}\n"
      ],
      "text/markdown": [
       "\n",
       "A matrix: 2 × 2 of type dbl\n",
       "\n",
       "| <!--/--> | Irs4 | Nrl |\n",
       "|---|---|---|\n",
       "| wt | 220.5 | 379 |\n",
       "| NrlKO | 159.5 |   1 |\n",
       "\n"
      ],
      "text/plain": [
       "      Irs4  Nrl\n",
       "wt    220.5 379\n",
       "NrlKO 159.5   1"
      ]
     },
     "metadata": {},
     "output_type": "display_data"
    }
   ],
   "source": [
    "sampSize <- c(nY, nZ)\n",
    "sapply(jRankSums, function(foo) foo - sampSize * (sampSize + 1)/2)"
   ]
  },
  {
   "cell_type": "markdown",
   "metadata": {},
   "source": [
    "let us compare our output to that of the \"official\" test earlier."
   ]
  },
  {
   "cell_type": "markdown",
   "metadata": {},
   "source": [
    "Focus on the first row of that table -- the rank sums for wild type with the associated minimum subtracted."
   ]
  },
  {
   "cell_type": "code",
   "execution_count": 29,
   "metadata": {},
   "outputs": [
    {
     "data": {
      "text/html": [
       "<dl class=dl-horizontal>\n",
       "\t<dt>Irs4.W</dt>\n",
       "\t\t<dd>220.5</dd>\n",
       "\t<dt>Nrl.W</dt>\n",
       "\t\t<dd>379</dd>\n",
       "</dl>\n"
      ],
      "text/latex": [
       "\\begin{description*}\n",
       "\\item[Irs4.W] 220.5\n",
       "\\item[Nrl.W] 379\n",
       "\\end{description*}\n"
      ],
      "text/markdown": [
       "Irs4.W\n",
       ":   220.5Nrl.W\n",
       ":   379\n",
       "\n"
      ],
      "text/plain": [
       "Irs4.W  Nrl.W \n",
       " 220.5  379.0 "
      ]
     },
     "metadata": {},
     "output_type": "display_data"
    }
   ],
   "source": [
    "sapply(wilcTest, function(foo) foo$stat)"
   ]
  },
  {
   "cell_type": "markdown",
   "metadata": {},
   "source": [
    "**Notice that they are the same!** We've computed the test statistic for ourselves."
   ]
  },
  {
   "cell_type": "markdown",
   "metadata": {},
   "source": [
    "# Kolmogorov-Smirnov Test (two sample)\n",
    "\n",
    "The Kolmogorov-Smirnov Test is another non-parametric method to test statistical significance. This method uses the empirical CDF for estimation to draw conclusions about the true CDF. The test statistic here is represented by the absolute difference between the empircal CDF of two samples."
   ]
  },
  {
   "cell_type": "code",
   "execution_count": 16,
   "metadata": {},
   "outputs": [
    {
     "name": "stderr",
     "output_type": "stream",
     "text": [
      "Warning message in ks.test(x = theDat$gExp[theDat$gType == \"wt\"], y = theDat$gExp[theDat$gType == :\n",
      "\"cannot compute exact p-value with ties\"Warning message in ks.test(x = theDat$gExp[theDat$gType == \"wt\"], y = theDat$gExp[theDat$gType == :\n",
      "\"cannot compute exact p-value with ties\""
     ]
    },
    {
     "data": {
      "text/plain": [
       "miniDat$gene: Irs4\n",
       "\n",
       "\tTwo-sample Kolmogorov-Smirnov test\n",
       "\n",
       "data:  theDat$gExp[theDat$gType == \"wt\"] and theDat$gExp[theDat$gType == \"NrlKO\"]\n",
       "D = 0.28421, p-value = 0.4107\n",
       "alternative hypothesis: two-sided\n",
       "\n",
       "------------------------------------------------------------ \n",
       "miniDat$gene: Nrl\n",
       "\n",
       "\tTwo-sample Kolmogorov-Smirnov test\n",
       "\n",
       "data:  theDat$gExp[theDat$gType == \"wt\"] and theDat$gExp[theDat$gType == \"NrlKO\"]\n",
       "D = 0.95, p-value = 4.603e-08\n",
       "alternative hypothesis: two-sided\n"
      ]
     },
     "metadata": {},
     "output_type": "display_data"
    }
   ],
   "source": [
    "(ksTest <- by(miniDat, miniDat$gene, function(theDat) {\n",
    "    ks.test(x = theDat$gExp[theDat$gType == \"wt\"],\n",
    "            y = theDat$gExp[theDat$gType == \"NrlKO\"])\n",
    "}))"
   ]
  },
  {
   "cell_type": "code",
   "execution_count": 43,
   "metadata": {},
   "outputs": [
    {
     "data": {
      "image/png": "[encoded data removed]",
      "text/plain": [
       "plot without title"
      ]
     },
     "metadata": {},
     "output_type": "display_data"
    }
   ],
   "source": [
    "irsecdf <- ggplot(irsDat, aes(gExp, colour=gType)) +\n",
    "    stat_ecdf(geom = \"step\") +\n",
    "    theme_bw() +\n",
    "    theme(legend.position = \"none\") +\n",
    "    labs(title = \"Irs4 gene\") +\n",
    "    ylab(\"Empirical CDF\")\n",
    "\n",
    "nrlecdf <- ggplot(nrlDat, aes(gExp, colour=gType)) +\n",
    "    stat_ecdf(geom = \"step\") +\n",
    "    theme_bw() +\n",
    "    theme(legend.position = \"none\") +\n",
    "    labs(title = \"Nrl gene\") +\n",
    "    ylab(\"\")\n",
    "\n",
    "\n",
    "# Combine plots together\n",
    "options(repr.plot.width=8, repr.plot.height=4)\n",
    "\n",
    "grid.arrange(irsecdf, nrlecdf, nrow = 1)"
   ]
  }
 ],
 "metadata": {
  "kernelspec": {
   "display_name": "R",
   "language": "R",
   "name": "ir"
  },
  "language_info": {
   "codemirror_mode": "r",
   "file_extension": ".r",
   "mimetype": "text/x-r-source",
   "name": "R",
   "pygments_lexer": "r",
   "version": "3.5.1"
  }
 },
 "nbformat": 4,
 "nbformat_minor": 2
}
