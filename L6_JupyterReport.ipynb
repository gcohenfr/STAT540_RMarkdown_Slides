{
 "cells": [
  {
   "cell_type": "markdown",
   "metadata": {
    "slideshow": {
     "slide_type": "slide"
    }
   },
   "source": [
    "# Statistical Methods for High Dimensional Biology (STAT/BIOF/GSAT 540)\n",
    "\n",
    "\n",
    "# <font color=red> Lecture 6: ANOVA and Linear Models"
   ]
  },
  {
   "cell_type": "markdown",
   "metadata": {
    "slideshow": {
     "slide_type": "subslide"
    }
   },
   "source": [
    "# Overview\n",
    "In this lecture, we will go beyond 2-groups comparisons and use ANOVA to compare these groups.\n",
    "\n",
    "### Table of Contents:\n",
    "\n",
    "1. [**Data description**](#Data-description)\n",
    "    1. [Loading the data](#Loading-the-data)\n",
    "    2. [Subsetting the data](#Subsetting-the-data)\n",
    "\n",
    "### R Dependencies:\n",
    "\n",
    "- knitr\n",
    "- lattice\n",
    "- latticeExtra\n",
    "- RColorBrewer"
   ]
  },
  {
   "cell_type": "code",
   "execution_count": 1,
   "metadata": {
    "slideshow": {
     "slide_type": "skip"
    }
   },
   "outputs": [
    {
     "name": "stderr",
     "output_type": "stream",
     "text": [
      "\n",
      "Attaching package: 'dplyr'\n",
      "\n",
      "The following objects are masked from 'package:stats':\n",
      "\n",
      "    filter, lag\n",
      "\n",
      "The following objects are masked from 'package:base':\n",
      "\n",
      "    intersect, setdiff, setequal, union\n",
      "\n",
      "Registered S3 methods overwritten by 'ggplot2':\n",
      "  method         from \n",
      "  [.quosures     rlang\n",
      "  c.quosures     rlang\n",
      "  print.quosures rlang\n",
      "\n",
      "Attaching package: 'gridExtra'\n",
      "\n",
      "The following object is masked from 'package:dplyr':\n",
      "\n",
      "    combine\n",
      "\n"
     ]
    }
   ],
   "source": [
    "library(knitr)\n",
    "knitr::opts_knit$set(root.dir=\".\")\n",
    "\n",
    "library(dplyr)\n",
    "\n",
    "library(ggplot2)\n",
    "library(ggthemes)\n",
    "\n",
    "library(grid)\n",
    "library(gridExtra)"
   ]
  },
  {
   "cell_type": "markdown",
   "metadata": {
    "slideshow": {
     "slide_type": "slide"
    }
   },
   "source": [
    "# Data description\n",
    "\n",
    "Dataset was obtained from: [GSE4051](https://www.ncbi.nlm.nih.gov/geo/query/acc.cgi?acc=GSE4051)\n",
    "\n",
    "> ## Targeting of GFP to new-born rods by Nrl promoter and temporal expression profiling of flow-sorted photoreceptors\n",
    "Akimoto M, Cheng H, Zhu D, Brzezinski JA, Khanna R, Filippova E, Oh EC, Jing Y, Linares JL, Brooks M, Zareparsi S, Mears AJ, Hero A, Glaser T, Swaroop A.\n",
    "<br><br>\n",
    "The Maf-family transcription factor Nrl is a key regulator of photoreceptor differentiation in mammals. Ablation of the Nrl gene in mice leads to functional cones at the expense of rods. We show that a 2.5-kb Nrl promoter segment directs the expression of enhanced GFP specifically to rod photoreceptors and the pineal gland of transgenic mice. GFP is detected shortly after terminal cell division, corresponding to the timing of rod genesis revealed by birthdating studies. In Nrl-/- retinas, the GFP+ photoreceptors express S-opsin, consistent with the transformation of rod precursors into cones. We report the gene profiles of freshly isolated flow-sorted GFP+ photoreceptors from wild-type and Nrl-/- retinas at five distinct developmental stages. Our results provide a framework for establishing gene regulatory networks that lead to mature functional photoreceptors from postmitotic precursors. Differentially expressed rod and cone genes are excellent candidates for retinopathies.\n",
    "\n",
    "### Overall Design\n",
    "> Postmitotic rod precursors and mature rod photoreceptors are tagged by GFP under the control of an Nrl promoter in the wild type background (Wt-Gfp mice). When cross-bred into the Nrl-knockout background (Nrl-ko-Gfp mice), the transformed “S-cones” are tagged by GFP. GFP positive photoreceptors from the Wt-Gfp or Nrl-ko-Gfp retina were enriched (purified) by FACS at five distinct developmental stages (E16, P2, P6, P10, and 4 weeks). Total RNA was extracted by Trizol regent and around 50 ng of total RNA was used for linear amplification and biotin labeling following Nugene kit protocol. Fragmented cDNA was hybridized on Affymetrix mouse genomic expression array 430 2.0 and then scanned with the standard protocol. Four replicates were performed for each time point."
   ]
  },
  {
   "cell_type": "markdown",
   "metadata": {
    "slideshow": {
     "slide_type": "subslide"
    }
   },
   "source": [
    "# Loading the data"
   ]
  },
  {
   "cell_type": "code",
   "execution_count": 2,
   "metadata": {
    "scrolled": true,
    "slideshow": {
     "slide_type": "-"
    }
   },
   "outputs": [
    {
     "name": "stdout",
     "output_type": "stream",
     "text": [
      "'data.frame':\t39 obs. of  4 variables:\n",
      " $ sidChar : chr  \"Sample_20\" \"Sample_21\" \"Sample_22\" \"Sample_23\" ...\n",
      " $ sidNum  : num  20 21 22 23 16 17 6 24 25 26 ...\n",
      " $ devStage: Factor w/ 5 levels \"E16\",\"P2\",\"P6\",..: 1 1 1 1 1 1 1 2 2 2 ...\n",
      " $ gType   : Factor w/ 2 levels \"wt\",\"NrlKO\": 1 1 1 1 2 2 2 1 1 1 ...\n",
      "'data.frame':\t29949 obs. of  39 variables:\n",
      " $ Sample_20: num  7.24 9.48 10.01 8.36 8.59 ...\n",
      " $ Sample_21: num  7.41 10.02 10.04 8.37 8.62 ...\n",
      " $ Sample_22: num  7.17 9.85 9.91 8.4 8.52 ...\n",
      " $ Sample_23: num  7.07 10.13 9.91 8.49 8.64 ...\n",
      " $ Sample_16: num  7.38 7.64 8.42 8.36 8.51 ...\n",
      " $ Sample_17: num  7.34 10.03 10.24 8.37 8.89 ...\n",
      " $ Sample_6 : num  7.24 9.71 10.17 8.84 8.54 ...\n",
      " $ Sample_24: num  7.11 9.75 9.39 8.37 8.36 ...\n",
      " $ Sample_25: num  7.19 9.16 10.11 8.2 8.5 ...\n",
      " $ Sample_26: num  7.18 9.49 9.41 8.73 8.39 ...\n",
      "  [list output truncated]\n"
     ]
    }
   ],
   "source": [
    "prDes <- readRDS(\"data/GSE4051_design.rds\")\n",
    "str(prDes)\n",
    "\n",
    "prDat<-read.table(\"data/GSE4051_data.tsv\",\n",
    "                  sep = \"\\t\", header = T, row.names = 1)\n",
    "str(prDat, list.len = 10)"
   ]
  },
  {
   "cell_type": "markdown",
   "metadata": {
    "slideshow": {
     "slide_type": "subslide"
    }
   },
   "source": [
    "Here we examine the design of the study with a frequency table. We have four samples for each combination of development stage and genotype (except for \"E16 and NrlKO\", which has 3 samples)"
   ]
  },
  {
   "cell_type": "code",
   "execution_count": 3,
   "metadata": {
    "slideshow": {
     "slide_type": "-"
    }
   },
   "outputs": [
    {
     "data": {
      "text/plain": [
       "         gType\n",
       "devStage  wt NrlKO\n",
       "  E16      4     3\n",
       "  P2       4     4\n",
       "  P6       4     4\n",
       "  P10      4     4\n",
       "  4_weeks  4     4"
      ]
     },
     "metadata": {},
     "output_type": "display_data"
    }
   ],
   "source": [
    "with(prDes, table(devStage, gType))"
   ]
  },
  {
   "cell_type": "code",
   "execution_count": 4,
   "metadata": {},
   "outputs": [
    {
     "data": {
      "text/html": [
       "'WT samples = 20'"
      ],
      "text/latex": [
       "'WT samples = 20'"
      ],
      "text/markdown": [
       "'WT samples = 20'"
      ],
      "text/plain": [
       "[1] \"WT samples = 20\""
      ]
     },
     "metadata": {},
     "output_type": "display_data"
    },
    {
     "data": {
      "text/html": [
       "'NrlKO samples = 19'"
      ],
      "text/latex": [
       "'NrlKO samples = 19'"
      ],
      "text/markdown": [
       "'NrlKO samples = 19'"
      ],
      "text/plain": [
       "[1] \"NrlKO samples = 19\""
      ]
     },
     "metadata": {},
     "output_type": "display_data"
    }
   ],
   "source": [
    "# Caculate total sample size of WT\n",
    "wtSample <- with(prDes, sum(gType == \"wt\"))\n",
    "paste(\"WT samples =\", wtSample)\n",
    "\n",
    "# Caculate total sample size of NrlKO\n",
    "nrlkoSample <- with(prDes, sum(gType == \"NrlKO\"))\n",
    "paste(\"NrlKO samples =\", nrlkoSample)"
   ]
  },
  {
   "cell_type": "markdown",
   "metadata": {
    "slideshow": {
     "slide_type": "subslide"
    }
   },
   "source": [
    "A cursory glance at the experession data reveals:"
   ]
  },
  {
   "cell_type": "code",
   "execution_count": 5,
   "metadata": {
    "slideshow": {
     "slide_type": "-"
    }
   },
   "outputs": [
    {
     "data": {
      "text/html": [
       "<table>\n",
       "<caption>A data.frame: 6 × 5</caption>\n",
       "<thead>\n",
       "\t<tr><th></th><th scope=col>Sample_20</th><th scope=col>Sample_21</th><th scope=col>Sample_22</th><th scope=col>Sample_23</th><th scope=col>Sample_16</th></tr>\n",
       "\t<tr><th></th><th scope=col>&lt;dbl&gt;</th><th scope=col>&lt;dbl&gt;</th><th scope=col>&lt;dbl&gt;</th><th scope=col>&lt;dbl&gt;</th><th scope=col>&lt;dbl&gt;</th></tr>\n",
       "</thead>\n",
       "<tbody>\n",
       "\t<tr><th scope=row>1415670_at</th><td> 7.236</td><td> 7.414</td><td>7.169</td><td> 7.070</td><td>7.383</td></tr>\n",
       "\t<tr><th scope=row>1415671_at</th><td> 9.478</td><td>10.020</td><td>9.854</td><td>10.130</td><td>7.637</td></tr>\n",
       "\t<tr><th scope=row>1415672_at</th><td>10.010</td><td>10.040</td><td>9.913</td><td> 9.907</td><td>8.423</td></tr>\n",
       "\t<tr><th scope=row>1415673_at</th><td> 8.362</td><td> 8.374</td><td>8.404</td><td> 8.487</td><td>8.363</td></tr>\n",
       "\t<tr><th scope=row>1415674_a_at</th><td> 8.585</td><td> 8.615</td><td>8.520</td><td> 8.641</td><td>8.509</td></tr>\n",
       "\t<tr><th scope=row>1415675_at</th><td> 9.591</td><td> 9.719</td><td>9.709</td><td> 9.700</td><td>9.656</td></tr>\n",
       "</tbody>\n",
       "</table>\n"
      ],
      "text/latex": [
       "A data.frame: 6 × 5\n",
       "\\begin{tabular}{r|lllll}\n",
       "  & Sample\\_20 & Sample\\_21 & Sample\\_22 & Sample\\_23 & Sample\\_16\\\\\n",
       "  & <dbl> & <dbl> & <dbl> & <dbl> & <dbl>\\\\\n",
       "\\hline\n",
       "\t1415670\\_at &  7.236 &  7.414 & 7.169 &  7.070 & 7.383\\\\\n",
       "\t1415671\\_at &  9.478 & 10.020 & 9.854 & 10.130 & 7.637\\\\\n",
       "\t1415672\\_at & 10.010 & 10.040 & 9.913 &  9.907 & 8.423\\\\\n",
       "\t1415673\\_at &  8.362 &  8.374 & 8.404 &  8.487 & 8.363\\\\\n",
       "\t1415674\\_a\\_at &  8.585 &  8.615 & 8.520 &  8.641 & 8.509\\\\\n",
       "\t1415675\\_at &  9.591 &  9.719 & 9.709 &  9.700 & 9.656\\\\\n",
       "\\end{tabular}\n"
      ],
      "text/markdown": [
       "\n",
       "A data.frame: 6 × 5\n",
       "\n",
       "| <!--/--> | Sample_20 &lt;dbl&gt; | Sample_21 &lt;dbl&gt; | Sample_22 &lt;dbl&gt; | Sample_23 &lt;dbl&gt; | Sample_16 &lt;dbl&gt; |\n",
       "|---|---|---|---|---|---|\n",
       "| 1415670_at |  7.236 |  7.414 | 7.169 |  7.070 | 7.383 |\n",
       "| 1415671_at |  9.478 | 10.020 | 9.854 | 10.130 | 7.637 |\n",
       "| 1415672_at | 10.010 | 10.040 | 9.913 |  9.907 | 8.423 |\n",
       "| 1415673_at |  8.362 |  8.374 | 8.404 |  8.487 | 8.363 |\n",
       "| 1415674_a_at |  8.585 |  8.615 | 8.520 |  8.641 | 8.509 |\n",
       "| 1415675_at |  9.591 |  9.719 | 9.709 |  9.700 | 9.656 |\n",
       "\n"
      ],
      "text/plain": [
       "             Sample_20 Sample_21 Sample_22 Sample_23 Sample_16\n",
       "1415670_at    7.236     7.414    7.169      7.070    7.383    \n",
       "1415671_at    9.478    10.020    9.854     10.130    7.637    \n",
       "1415672_at   10.010    10.040    9.913      9.907    8.423    \n",
       "1415673_at    8.362     8.374    8.404      8.487    8.363    \n",
       "1415674_a_at  8.585     8.615    8.520      8.641    8.509    \n",
       "1415675_at    9.591     9.719    9.709      9.700    9.656    "
      ]
     },
     "metadata": {},
     "output_type": "display_data"
    }
   ],
   "source": [
    "head(subset(prDat, select = 1:5))"
   ]
  },
  {
   "cell_type": "markdown",
   "metadata": {
    "slideshow": {
     "slide_type": "subslide"
    }
   },
   "source": [
    "# Subsetting the data"
   ]
  },
  {
   "cell_type": "markdown",
   "metadata": {
    "slideshow": {
     "slide_type": "subslide"
    }
   },
   "source": [
    "We extract the rows for each of these genes, transpose and then vectorize the data. We then merge this data together with the design metadata. Ensure that the samples match between the data and design before merging."
   ]
  },
  {
   "cell_type": "code",
   "execution_count": 6,
   "metadata": {},
   "outputs": [
    {
     "name": "stderr",
     "output_type": "stream",
     "text": [
      "Warning message in data.frame(prDes, miniDat):\n",
      "\"row names were found from a short variable and have been discarded\""
     ]
    },
    {
     "name": "stdout",
     "output_type": "stream",
     "text": [
      "'data.frame':\t78 obs. of  6 variables:\n",
      " $ sidChar : chr  \"Sample_20\" \"Sample_21\" \"Sample_22\" \"Sample_23\" ...\n",
      " $ sidNum  : num  20 21 22 23 16 17 6 24 25 26 ...\n",
      " $ devStage: Factor w/ 5 levels \"E16\",\"P2\",\"P6\",..: 1 1 1 1 1 1 1 2 2 2 ...\n",
      " $ gType   : Factor w/ 2 levels \"wt\",\"NrlKO\": 1 1 1 1 2 2 2 1 1 1 ...\n",
      " $ gene    : Factor w/ 2 levels \"Irs4\",\"Nrl\": 1 1 1 1 1 1 1 1 1 1 ...\n",
      " $ gExp    : num  7.87 7.78 7.58 7.4 8.08 ...\n"
     ]
    },
    {
     "data": {
      "text/html": [
       "<table>\n",
       "<caption>A data.frame: 6 × 6</caption>\n",
       "<thead>\n",
       "\t<tr><th scope=col>sidChar</th><th scope=col>sidNum</th><th scope=col>devStage</th><th scope=col>gType</th><th scope=col>gene</th><th scope=col>gExp</th></tr>\n",
       "\t<tr><th scope=col>&lt;chr&gt;</th><th scope=col>&lt;dbl&gt;</th><th scope=col>&lt;fct&gt;</th><th scope=col>&lt;fct&gt;</th><th scope=col>&lt;fct&gt;</th><th scope=col>&lt;dbl&gt;</th></tr>\n",
       "</thead>\n",
       "<tbody>\n",
       "\t<tr><td>Sample_20</td><td>20</td><td>E16</td><td>wt   </td><td>Irs4</td><td>7.867</td></tr>\n",
       "\t<tr><td>Sample_21</td><td>21</td><td>E16</td><td>wt   </td><td>Irs4</td><td>7.783</td></tr>\n",
       "\t<tr><td>Sample_22</td><td>22</td><td>E16</td><td>wt   </td><td>Irs4</td><td>7.585</td></tr>\n",
       "\t<tr><td>Sample_23</td><td>23</td><td>E16</td><td>wt   </td><td>Irs4</td><td>7.400</td></tr>\n",
       "\t<tr><td>Sample_16</td><td>16</td><td>E16</td><td>NrlKO</td><td>Irs4</td><td>8.076</td></tr>\n",
       "\t<tr><td>Sample_17</td><td>17</td><td>E16</td><td>NrlKO</td><td>Irs4</td><td>7.515</td></tr>\n",
       "</tbody>\n",
       "</table>\n"
      ],
      "text/latex": [
       "A data.frame: 6 × 6\n",
       "\\begin{tabular}{r|llllll}\n",
       " sidChar & sidNum & devStage & gType & gene & gExp\\\\\n",
       " <chr> & <dbl> & <fct> & <fct> & <fct> & <dbl>\\\\\n",
       "\\hline\n",
       "\t Sample\\_20 & 20 & E16 & wt    & Irs4 & 7.867\\\\\n",
       "\t Sample\\_21 & 21 & E16 & wt    & Irs4 & 7.783\\\\\n",
       "\t Sample\\_22 & 22 & E16 & wt    & Irs4 & 7.585\\\\\n",
       "\t Sample\\_23 & 23 & E16 & wt    & Irs4 & 7.400\\\\\n",
       "\t Sample\\_16 & 16 & E16 & NrlKO & Irs4 & 8.076\\\\\n",
       "\t Sample\\_17 & 17 & E16 & NrlKO & Irs4 & 7.515\\\\\n",
       "\\end{tabular}\n"
      ],
      "text/markdown": [
       "\n",
       "A data.frame: 6 × 6\n",
       "\n",
       "| sidChar &lt;chr&gt; | sidNum &lt;dbl&gt; | devStage &lt;fct&gt; | gType &lt;fct&gt; | gene &lt;fct&gt; | gExp &lt;dbl&gt; |\n",
       "|---|---|---|---|---|---|\n",
       "| Sample_20 | 20 | E16 | wt    | Irs4 | 7.867 |\n",
       "| Sample_21 | 21 | E16 | wt    | Irs4 | 7.783 |\n",
       "| Sample_22 | 22 | E16 | wt    | Irs4 | 7.585 |\n",
       "| Sample_23 | 23 | E16 | wt    | Irs4 | 7.400 |\n",
       "| Sample_16 | 16 | E16 | NrlKO | Irs4 | 8.076 |\n",
       "| Sample_17 | 17 | E16 | NrlKO | Irs4 | 7.515 |\n",
       "\n"
      ],
      "text/plain": [
       "  sidChar   sidNum devStage gType gene gExp \n",
       "1 Sample_20 20     E16      wt    Irs4 7.867\n",
       "2 Sample_21 21     E16      wt    Irs4 7.783\n",
       "3 Sample_22 22     E16      wt    Irs4 7.585\n",
       "4 Sample_23 23     E16      wt    Irs4 7.400\n",
       "5 Sample_16 16     E16      NrlKO Irs4 8.076\n",
       "6 Sample_17 17     E16      NrlKO Irs4 7.515"
      ]
     },
     "metadata": {},
     "output_type": "display_data"
    }
   ],
   "source": [
    "miniDat <- as.vector(t(prDat[c(\"1422248_at\", \"1450946_at\"), ]))\n",
    "miniDat <- data.frame(gene = rep(c(\"Irs4\", \"Nrl\"), each = nrow(prDes)),\n",
    "                      gExp = miniDat)\n",
    "miniDat <- data.frame(prDes, miniDat) # ignore the warning about row names\n",
    "str(miniDat)\n",
    "head(miniDat)"
   ]
  },
  {
   "cell_type": "markdown",
   "metadata": {},
   "source": [
    "# Code from Lecture 6"
   ]
  },
  {
   "cell_type": "markdown",
   "metadata": {},
   "source": [
    "## Slide 5"
   ]
  },
  {
   "cell_type": "code",
   "execution_count": 7,
   "metadata": {},
   "outputs": [
    {
     "data": {
      "text/plain": [
       "\n",
       "\tTwo Sample t-test\n",
       "\n",
       "data:  gExp by gType\n",
       "t = 0.52865, df = 37, p-value = 0.6002\n",
       "alternative hypothesis: true difference in means is not equal to 0\n",
       "95 percent confidence interval:\n",
       " -0.07383844  0.12597002\n",
       "sample estimates:\n",
       "   mean in group wt mean in group NrlKO \n",
       "           7.765750            7.739684 \n"
      ]
     },
     "metadata": {},
     "output_type": "display_data"
    }
   ],
   "source": [
    "t.test(gExp ~ gType, miniDat, subset = gene == \"Irs4\", var.equal = TRUE)"
   ]
  },
  {
   "cell_type": "code",
   "execution_count": 8,
   "metadata": {},
   "outputs": [
    {
     "data": {
      "text/plain": [
       "            Df Sum Sq Mean Sq F value Pr(>F)\n",
       "gType        1 0.0066 0.00662   0.279    0.6\n",
       "Residuals   37 0.8764 0.02369               "
      ]
     },
     "metadata": {},
     "output_type": "display_data"
    }
   ],
   "source": [
    "summary(aov(gExp ~ gType, miniDat, subset = gene == \"Irs4\"))"
   ]
  },
  {
   "cell_type": "code",
   "execution_count": 9,
   "metadata": {},
   "outputs": [
    {
     "data": {
      "text/plain": [
       "\n",
       "Call:\n",
       "lm(formula = gExp ~ gType, data = miniDat, subset = gene == \"Irs4\")\n",
       "\n",
       "Residuals:\n",
       "     Min       1Q   Median       3Q      Max \n",
       "-0.36575 -0.09072  0.01725  0.09428  0.36525 \n",
       "\n",
       "Coefficients:\n",
       "            Estimate Std. Error t value Pr(>|t|)    \n",
       "(Intercept)  7.76575    0.03441 225.650   <2e-16 ***\n",
       "gTypeNrlKO  -0.02607    0.04931  -0.529      0.6    \n",
       "---\n",
       "Signif. codes:  0 '***' 0.001 '**' 0.01 '*' 0.05 '.' 0.1 ' ' 1\n",
       "\n",
       "Residual standard error: 0.1539 on 37 degrees of freedom\n",
       "Multiple R-squared:  0.007497,\tAdjusted R-squared:  -0.01933 \n",
       "F-statistic: 0.2795 on 1 and 37 DF,  p-value: 0.6002\n"
      ]
     },
     "metadata": {},
     "output_type": "display_data"
    }
   ],
   "source": [
    "summary(lm(gExp ~ gType, miniDat, subset = gene == \"Irs4\"))"
   ]
  },
  {
   "cell_type": "markdown",
   "metadata": {},
   "source": [
    "## Slide 23"
   ]
  },
  {
   "cell_type": "code",
   "execution_count": 10,
   "metadata": {},
   "outputs": [],
   "source": [
    "theHit <- which(rownames(prDat) == \"1440645_at\") # 17843\n",
    "## and this as our boring gene\n",
    "theBore <- which(rownames(prDat) == \"1443184_at\") # 18898\n",
    "\n",
    "keepers <- data.frame(row = c(theBore, theHit),\n",
    "                       probesetID = I(rownames(prDat)[c(theBore, theHit)]))"
   ]
  },
  {
   "cell_type": "code",
   "execution_count": 11,
   "metadata": {},
   "outputs": [
    {
     "name": "stderr",
     "output_type": "stream",
     "text": [
      "Warning message in data.frame(prDes, miniDat):\n",
      "\"row names were found from a short variable and have been discarded\""
     ]
    },
    {
     "name": "stdout",
     "output_type": "stream",
     "text": [
      "'data.frame':\t78 obs. of  6 variables:\n",
      " $ sidChar : chr  \"Sample_20\" \"Sample_21\" \"Sample_22\" \"Sample_23\" ...\n",
      " $ sidNum  : num  20 21 22 23 16 17 6 24 25 26 ...\n",
      " $ devStage: Factor w/ 5 levels \"E16\",\"P2\",\"P6\",..: 1 1 1 1 1 1 1 2 2 2 ...\n",
      " $ gType   : Factor w/ 2 levels \"wt\",\"NrlKO\": 1 1 1 1 2 2 2 1 1 1 ...\n",
      " $ gene    : Factor w/ 2 levels \"theBore\",\"theHit\": 1 1 1 1 1 1 1 1 1 1 ...\n",
      " $ gExp    : num  7.59 7.96 7.43 7.58 7.98 ...\n"
     ]
    }
   ],
   "source": [
    "miniDat <- as.vector(t(prDat[keepers$probesetID, ]))\n",
    "miniDat <- data.frame(gene = rep(c(\"theBore\", \"theHit\"), each = nrow(prDes)),\n",
    "                      gExp = miniDat)\n",
    "\n",
    "miniDat <- data.frame(prDes, miniDat)\n",
    "str(miniDat)\n",
    "\n",
    "boreDat <- filter(miniDat, gene == \"theBore\")\n",
    "hitDat <- filter(miniDat, gene == \"theHit\")"
   ]
  },
  {
   "cell_type": "code",
   "execution_count": 12,
   "metadata": {},
   "outputs": [
    {
     "data": {
      "image/png": "[encoded data removed]",
      "text/plain": [
       "plot without title"
      ]
     },
     "metadata": {},
     "output_type": "display_data"
    }
   ],
   "source": [
    "boreLim <- ggplot(boreDat, aes(x = devStage, y = gExp)) + \n",
    "             geom_jitter(width = 0.2, alpha = 0.5) +\n",
    "             labs(title = \"theBore\") +\n",
    "             theme_bw() +\n",
    "             theme(legend.position = \"none\") +\n",
    "             ylim(5, 10) +\n",
    "             xlab(\"\") +\n",
    "             stat_summary(aes(group=1), fun.y=mean, geom=\"line\", colour=\"red\")\n",
    "\n",
    "hitLim <- ggplot(hitDat, aes(x = devStage, y = gExp)) + \n",
    "             geom_jitter(width = 0.2, alpha = 0.5) +\n",
    "             labs(title = \"theHit\") +\n",
    "             theme_bw() +\n",
    "             theme(legend.position = \"none\") +\n",
    "             ylim(5, 10) +\n",
    "             ylab(\"\") +\n",
    "             xlab(\"\") +\n",
    "             stat_summary(aes(group=1), fun.y=mean, geom=\"line\", colour=\"red\")\n",
    "\n",
    "grid.arrange(boreLim, hitLim, nrow = 2)"
   ]
  },
  {
   "cell_type": "markdown",
   "metadata": {},
   "source": [
    "## Slide 24"
   ]
  },
  {
   "cell_type": "code",
   "execution_count": 13,
   "metadata": {
    "scrolled": true
   },
   "outputs": [
    {
     "data": {
      "text/html": [
       "<table>\n",
       "<caption>A grouped_df: 4 × 3</caption>\n",
       "<thead>\n",
       "\t<tr><th scope=col>gType</th><th scope=col>gene</th><th scope=col>mean(gExp)</th></tr>\n",
       "\t<tr><th scope=col>&lt;fct&gt;</th><th scope=col>&lt;fct&gt;</th><th scope=col>&lt;dbl&gt;</th></tr>\n",
       "</thead>\n",
       "<tbody>\n",
       "\t<tr><td>wt   </td><td>theBore</td><td>7.643900</td></tr>\n",
       "\t<tr><td>wt   </td><td>theHit </td><td>6.528350</td></tr>\n",
       "\t<tr><td>NrlKO</td><td>theBore</td><td>7.477421</td></tr>\n",
       "\t<tr><td>NrlKO</td><td>theHit </td><td>6.612632</td></tr>\n",
       "</tbody>\n",
       "</table>\n"
      ],
      "text/latex": [
       "A grouped_df: 4 × 3\n",
       "\\begin{tabular}{r|lll}\n",
       " gType & gene & mean(gExp)\\\\\n",
       " <fct> & <fct> & <dbl>\\\\\n",
       "\\hline\n",
       "\t wt    & theBore & 7.643900\\\\\n",
       "\t wt    & theHit  & 6.528350\\\\\n",
       "\t NrlKO & theBore & 7.477421\\\\\n",
       "\t NrlKO & theHit  & 6.612632\\\\\n",
       "\\end{tabular}\n"
      ],
      "text/markdown": [
       "\n",
       "A grouped_df: 4 × 3\n",
       "\n",
       "| gType &lt;fct&gt; | gene &lt;fct&gt; | mean(gExp) &lt;dbl&gt; |\n",
       "|---|---|---|\n",
       "| wt    | theBore | 7.643900 |\n",
       "| wt    | theHit  | 6.528350 |\n",
       "| NrlKO | theBore | 7.477421 |\n",
       "| NrlKO | theHit  | 6.612632 |\n",
       "\n"
      ],
      "text/plain": [
       "  gType gene    mean(gExp)\n",
       "1 wt    theBore 7.643900  \n",
       "2 wt    theHit  6.528350  \n",
       "3 NrlKO theBore 7.477421  \n",
       "4 NrlKO theHit  6.612632  "
      ]
     },
     "metadata": {},
     "output_type": "display_data"
    }
   ],
   "source": [
    "miniDat %>%\n",
    "    group_by(gType,gene) %>% \n",
    "    summarize(mean(gExp))"
   ]
  },
  {
   "cell_type": "code",
   "execution_count": 14,
   "metadata": {},
   "outputs": [
    {
     "data": {
      "text/plain": [
       "\n",
       "Call:\n",
       "lm(formula = gExp ~ devStage, data = miniDat, subset = gene == \n",
       "    \"theHit\")\n",
       "\n",
       "Residuals:\n",
       "     Min       1Q   Median       3Q      Max \n",
       "-0.78538 -0.13299 -0.04788  0.17062  0.51814 \n",
       "\n",
       "Coefficients:\n",
       "                Estimate Std. Error t value Pr(>|t|)    \n",
       "(Intercept)       5.5409     0.1021  54.249  < 2e-16 ***\n",
       "devStageP2        0.3040     0.1399   2.174   0.0368 *  \n",
       "devStageP6        0.2434     0.1399   1.740   0.0909 .  \n",
       "devStageP10       0.8343     0.1399   5.965 9.56e-07 ***\n",
       "devStage4_weeks   3.6325     0.1399  25.973  < 2e-16 ***\n",
       "---\n",
       "Signif. codes:  0 '***' 0.001 '**' 0.01 '*' 0.05 '.' 0.1 ' ' 1\n",
       "\n",
       "Residual standard error: 0.2702 on 34 degrees of freedom\n",
       "Multiple R-squared:  0.9663,\tAdjusted R-squared:  0.9623 \n",
       "F-statistic: 243.4 on 4 and 34 DF,  p-value: < 2.2e-16\n"
      ]
     },
     "metadata": {},
     "output_type": "display_data"
    }
   ],
   "source": [
    "summary(lm(gExp ~ devStage, miniDat, subset = gene == \"theHit\"))"
   ]
  },
  {
   "cell_type": "markdown",
   "metadata": {},
   "source": [
    "## Slide 38"
   ]
  },
  {
   "cell_type": "code",
   "execution_count": 15,
   "metadata": {},
   "outputs": [],
   "source": [
    "twoFactFit <- lm(formula = gExp ~ gType * devStage, data = miniDat)"
   ]
  },
  {
   "cell_type": "code",
   "execution_count": 16,
   "metadata": {},
   "outputs": [
    {
     "name": "stderr",
     "output_type": "stream",
     "text": [
      "Warning message in cbind(sampleMeans = theAvgs, minuRef = theAvgs - theAvgs[\"wt.E16\"], :\n",
      "\"number of rows of result is not a multiple of vector length (arg 3)\""
     ]
    },
    {
     "data": {
      "text/html": [
       "<table>\n",
       "<caption>A matrix: 2 × 5 of type dbl</caption>\n",
       "<thead>\n",
       "\t<tr><th></th><th scope=col>Irs4</th><th scope=col>Nrl</th><th scope=col>Irs4</th><th scope=col>Nrl</th><th scope=col>twoFactFit</th></tr>\n",
       "</thead>\n",
       "<tbody>\n",
       "\t<tr><th scope=row>wt</th><td>7.765750</td><td>11.244200</td><td>NA</td><td>NA</td><td>6.53737500</td></tr>\n",
       "\t<tr><th scope=row>NrlKO</th><td>7.739684</td><td> 6.089632</td><td>NA</td><td>NA</td><td>0.01195833</td></tr>\n",
       "</tbody>\n",
       "</table>\n"
      ],
      "text/latex": [
       "A matrix: 2 × 5 of type dbl\n",
       "\\begin{tabular}{r|lllll}\n",
       "  & Irs4 & Nrl & Irs4 & Nrl & twoFactFit\\\\\n",
       "\\hline\n",
       "\twt & 7.765750 & 11.244200 & NA & NA & 6.53737500\\\\\n",
       "\tNrlKO & 7.739684 &  6.089632 & NA & NA & 0.01195833\\\\\n",
       "\\end{tabular}\n"
      ],
      "text/markdown": [
       "\n",
       "A matrix: 2 × 5 of type dbl\n",
       "\n",
       "| <!--/--> | Irs4 | Nrl | Irs4 | Nrl | twoFactFit |\n",
       "|---|---|---|---|---|---|\n",
       "| wt | 7.765750 | 11.244200 | NA | NA | 6.53737500 |\n",
       "| NrlKO | 7.739684 |  6.089632 | NA | NA | 0.01195833 |\n",
       "\n"
      ],
      "text/plain": [
       "      Irs4     Nrl       Irs4 Nrl twoFactFit\n",
       "wt    7.765750 11.244200 NA   NA  6.53737500\n",
       "NrlKO 7.739684  6.089632 NA   NA  0.01195833"
      ]
     },
     "metadata": {},
     "output_type": "display_data"
    }
   ],
   "source": [
    "cbind(sampleMeans = theAvgs,\n",
    "      minuRef = theAvgs - theAvgs[\"wt.E16\"],\n",
    "      twoFactFit = coef(twoFactFit))"
   ]
  },
  {
   "cell_type": "code",
   "execution_count": 17,
   "metadata": {},
   "outputs": [
    {
     "data": {
      "text/html": [
       "&lt;NA&gt;"
      ],
      "text/latex": [
       "<NA>"
      ],
      "text/markdown": [
       "&lt;NA&gt;"
      ],
      "text/plain": [
       "[1] NA"
      ]
     },
     "metadata": {},
     "output_type": "display_data"
    }
   ],
   "source": [
    "theAvgs[\"NrlKO.4_weeks\"] -\n",
    "    (theAvgs[\"wt.E16\"] +\n",
    "        (theAvgs[\"NrlKO.E16\"] - theAvgs[\"wt.E16\"]) +\n",
    "             (theAvgs[\"wt.4_weeks\"] - theAvgs[\"wt.E16\"]))"
   ]
  },
  {
   "cell_type": "code",
   "execution_count": 18,
   "metadata": {},
   "outputs": [
    {
     "data": {
      "text/plain": [
       "\n",
       "Call:\n",
       "lm(formula = gExp ~ gType * devStage, data = miniDat)\n",
       "\n",
       "Residuals:\n",
       "     Min       1Q   Median       3Q      Max \n",
       "-1.18437 -0.82788 -0.05175  0.80825  1.43067 \n",
       "\n",
       "Coefficients:\n",
       "                           Estimate Std. Error t value Pr(>|t|)    \n",
       "(Intercept)                 6.53737    0.32754  19.959  < 2e-16 ***\n",
       "gTypeNrlKO                  0.01196    0.50032   0.024    0.981    \n",
       "devStageP2                  0.20350    0.46321   0.439    0.662    \n",
       "devStageP6                  0.06163    0.46321   0.133    0.895    \n",
       "devStageP10                 0.45738    0.46321   0.987    0.327    \n",
       "devStage4_weeks             2.02125    0.46321   4.364 4.46e-05 ***\n",
       "gTypeNrlKO:devStageP2      -0.06533    0.68182  -0.096    0.924    \n",
       "gTypeNrlKO:devStageP6       0.12829    0.68182   0.188    0.851    \n",
       "gTypeNrlKO:devStageP10     -0.05533    0.68182  -0.081    0.936    \n",
       "gTypeNrlKO:devStage4_weeks -0.39683    0.68182  -0.582    0.562    \n",
       "---\n",
       "Signif. codes:  0 '***' 0.001 '**' 0.01 '*' 0.05 '.' 0.1 ' ' 1\n",
       "\n",
       "Residual standard error: 0.9264 on 68 degrees of freedom\n",
       "Multiple R-squared:  0.3829,\tAdjusted R-squared:  0.3012 \n",
       "F-statistic: 4.688 on 9 and 68 DF,  p-value: 7.517e-05\n"
      ]
     },
     "metadata": {},
     "output_type": "display_data"
    }
   ],
   "source": [
    "summary(twoFactFit)"
   ]
  },
  {
   "cell_type": "markdown",
   "metadata": {},
   "source": [
    "# Slide 40"
   ]
  },
  {
   "cell_type": "code",
   "execution_count": 19,
   "metadata": {},
   "outputs": [
    {
     "ename": "ERROR",
     "evalue": "Error in eval(predvars, data, env): object 'prMat' not found\n",
     "output_type": "error",
     "traceback": [
      "Error in eval(predvars, data, env): object 'prMat' not found\nTraceback:\n",
      "1. summary(lm(formula = prMat ~ gType * devStage, data = prDes))",
      "2. lm(formula = prMat ~ gType * devStage, data = prDes)",
      "3. eval(mf, parent.frame())",
      "4. eval(mf, parent.frame())",
      "5. stats::model.frame(formula = prMat ~ gType * devStage, data = prDes, \n .     drop.unused.levels = TRUE)",
      "6. model.frame.default(formula = prMat ~ gType * devStage, data = prDes, \n .     drop.unused.levels = TRUE)",
      "7. eval(predvars, data, env)",
      "8. eval(predvars, data, env)"
     ]
    }
   ],
   "source": [
    "summary(lm(formula = prMat ~ gType * devStage, data = prDes))"
   ]
  },
  {
   "cell_type": "markdown",
   "metadata": {},
   "source": [
    "# Slide 41"
   ]
  },
  {
   "cell_type": "code",
   "execution_count": null,
   "metadata": {},
   "outputs": [],
   "source": [
    "summary(lm(formula = prMatSimple ~ gType * devStage, data = prDes))"
   ]
  }
 ],
 "metadata": {
  "kernelspec": {
   "display_name": "Python 3",
   "language": "python",
   "name": "python3"
  },
  "language_info": {
   "codemirror_mode": {
    "name": "ipython",
    "version": 3
   },
   "file_extension": ".py",
   "mimetype": "text/x-python",
   "name": "python",
   "nbconvert_exporter": "python",
   "pygments_lexer": "ipython3",
   "version": "3.7.3"
  }
 },
 "nbformat": 4,
 "nbformat_minor": 2
}
